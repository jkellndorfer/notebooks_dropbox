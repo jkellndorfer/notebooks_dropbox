{
 "cells": [
  {
   "cell_type": "markdown",
   "metadata": {},
   "source": [
    "SERVIR SAR TRAINING WORKSHOP \n",
    "\n",
    "Focus: Forest Applications \n",
    "\n",
    "PART 3: Time Series Change Detection\n",
    "\n",
    "Author: Josef Kellndorfer, Ph.D., President and Senior Scientist, Earth Big Data, LLC\n",
    "\n",
    "Revision date: January 2018\n",
    "\n",
    "\n",
    "This workbook is available as a Jupyter Notebook for interactive studying of the material. This section focuses on change detection with time series analysis of SAR backscatter curves. Depending on the study region, data sets can be swapped out and subsets in image data can be selected per a user's choice. The underlying data sets assume that data are pre-processing in GDAL compatible open source formats as multi-layer time series data stacks accompanied by a date file that gives an acquisition date for each layer in a simple format with \"YYYYMMDD\" entries per line for each band. For the course data were prepared with Earth Big Data LLC's Sentinel-1 time series processor which includes radiometric terrain correction and multi-temporal speckle noise reduction (See [earthbigdata.com](http://earthbigdata.com), [Earth Big Data's openSAR on github](https://github.com/EarthBigData/)). Data are organized as a stack of GeoTIFF bands combined via GDAL's Virtual Raster Table (VRT) format. (See [gdal.org](http://gdal.org))\n",
    "\n",
    "All software code in this chapter is implemented in python 3 and should execute equally on Windows, Linux or MacOS operating systems via Jupyter notebook servers. (See [jupyter.org][http://jupyter.org/))\n"
   ]
  },
  {
   "cell_type": "code",
   "execution_count": null,
   "metadata": {},
   "outputs": [],
   "source": [
    "# Importing relevant python packages\n",
    "import pandas as pd\n",
    "import gdal\n",
    "import numpy as np\n",
    "import time,os\n",
    "\n",
    "# For plotting\n",
    "%matplotlib inline\n",
    "import matplotlib.pylab as plt\n",
    "import matplotlib.patches as patches\n",
    "\n",
    "font = {'family' : 'monospace',\n",
    "          'weight' : 'bold',\n",
    "          'size'   : 18}\n",
    "plt.rc('font',**font)"
   ]
  },
  {
   "cell_type": "markdown",
   "metadata": {},
   "source": [
    "# Acquire Data\n",
    "\n",
    "## West Africa - Biomass Site"
   ]
  },
  {
   "cell_type": "code",
   "execution_count": null,
   "metadata": {
    "nbpresent": {
     "id": "a14db88f-c823-40aa-b3cc-1e81e194178f"
    }
   },
   "outputs": [],
   "source": [
    "# datadirectory='/Users/josefk/Dropbox//projects/c401servir/wa/BIOsS1/'\n",
    "# datefile='S32631X398020Y1315440sS1_A_vv_0001_mtfil.dates'\n",
    "# imagefile='S32631X398020Y1315440sS1_A_vv_0001_mtfil.vrt'"
   ]
  },
  {
   "cell_type": "markdown",
   "metadata": {},
   "source": [
    "## West Africa - Niamey Deforestation Site"
   ]
  },
  {
   "cell_type": "code",
   "execution_count": null,
   "metadata": {},
   "outputs": [],
   "source": [
    "datadirectory='/Users/josefk/Dropbox/projects/c401servir/wa/cra/'\n",
    "datefile='S32631X402380Y1491460sS1_A_vv_0001_A_mtfil.dates'\n",
    "imagefile='S32631X402380Y1491460sS1_A_vv_0001_A_mtfil.vrt'"
   ]
  },
  {
   "cell_type": "code",
   "execution_count": null,
   "metadata": {
    "nbpresent": {
     "id": "b51de666-a7ba-478a-abce-fee6ee65fc4c"
    }
   },
   "outputs": [],
   "source": [
    "# Switch to the data directory\n",
    "os.chdir(datadirectory)"
   ]
  },
  {
   "cell_type": "markdown",
   "metadata": {
    "nbpresent": {
     "id": "a9217cf4-e4b0-40e5-8f1c-a9808f4c6b06"
    }
   },
   "source": [
    "## Acquisition Dates\n",
    "\n",
    "Read from the Dates file the dates in the time series and make a pandas date index"
   ]
  },
  {
   "cell_type": "code",
   "execution_count": null,
   "metadata": {
    "nbpresent": {
     "id": "2bb67d4c-9ad2-4c8c-86a4-6155e91622b4"
    }
   },
   "outputs": [],
   "source": [
    "dates=open(datefile).readlines()\n",
    "tindex=pd.DatetimeIndex(dates)\n",
    "# From the index we make and print a lookup table for \n",
    "# band numbers and dates \n",
    "datelut = []\n",
    "b=1\n",
    "for i in tindex:\n",
    "    datelut.append(str(b)+' '+str(i.date()))\n",
    "    b += 1 \n",
    "for i in range(len(datelut)):\n",
    "    print(datelut[i],end=\"  \")\n",
    "    if i%4 == 0: print('\\n')"
   ]
  },
  {
   "cell_type": "markdown",
   "metadata": {
    "nbpresent": {
     "id": "da25a949-23cb-4d4b-a021-96ffbf1b4ae3"
    }
   },
   "source": [
    "## Image data"
   ]
  },
  {
   "cell_type": "code",
   "execution_count": null,
   "metadata": {
    "nbpresent": {
     "id": "13b7f3d8-ce86-4033-be6d-61fe94849da9"
    }
   },
   "outputs": [],
   "source": [
    "rasterstack=gdal.Open(imagefile).ReadAsArray()"
   ]
  },
  {
   "cell_type": "markdown",
   "metadata": {
    "nbpresent": {
     "id": "72a660f2-b1bf-4ec5-be48-8210746664a4"
    }
   },
   "source": [
    "# Data Pre-Processing \n",
    "## Plot the global means of the Time Series \n",
    "1. conversion to power\n",
    "2. compute means\n",
    "3. convert to dB\n",
    "4. make a pandas time series \n",
    "5. plot time series of means"
   ]
  },
  {
   "cell_type": "code",
   "execution_count": null,
   "metadata": {},
   "outputs": [],
   "source": [
    "# 1. Conversion to Power\n",
    "caldB=-83\n",
    "calPwr = np.power(10.,caldB/10.)\n",
    "rasterstack_pwr = np.power(rasterstack,2.)*calPwr\n",
    "# 2. Compute Means\n",
    "rs_means_pwr = np.mean(rasterstack_pwr,axis=(1,2))\n",
    "# 3. Convert to dB\n",
    "rs_means_dB = 10.*np.log10(rs_means_pwr)"
   ]
  },
  {
   "cell_type": "code",
   "execution_count": null,
   "metadata": {},
   "outputs": [],
   "source": [
    "# 4. Make a pandas time series object\n",
    "ts = pd.Series(rs_means_dB,index=tindex)"
   ]
  },
  {
   "cell_type": "code",
   "execution_count": null,
   "metadata": {
    "scrolled": true
   },
   "outputs": [],
   "source": [
    "# 5. Use the pandas plot function of the time series object to plot\n",
    "# Put band numbers as data point labels\n",
    "plt.figure(figsize=(16,8))\n",
    "ts.plot()\n",
    "xl = plt.xlabel('Date')\n",
    "yl = plt.ylabel('$\\overline{\\gamma^o}$ [dB]')\n",
    "for xyb in zip(tindex,rs_means_dB,range(1,len(rs_means_dB)+1)):\n",
    "    plt.annotate(xyb[2],xy=xyb[0:2])\n"
   ]
  },
  {
   "cell_type": "markdown",
   "metadata": {},
   "source": [
    "### EXERCISE\n",
    "Look at the global means plot and determine from the tindex array at which dates you see  maximum and minimum values. Are relative peaks associated with seasons?"
   ]
  },
  {
   "cell_type": "markdown",
   "metadata": {},
   "source": [
    "# Generate Time Series for  Point Locations or Subsets \n",
    "\n",
    "In python we can use the matrix slicing rules (Like Matlab) to obtain subsets of the data. For example to pick one pixel at a line/pixel location and obtain all band values, use:\n",
    "\n",
    ">  [:,line,pixel] notation. \n",
    "\n",
    "Or, if we are interested in a subset at a offset location we can use:\n",
    "\n",
    "> [:,yoffset:(yoffset+yrange),xoffset:(xoffset+xrange)]\n",
    "\n",
    "In the section below we will learn how to generate time series plots for point locations (pixels) or areas (e.g. a 5x5 window region). To show  individual bands, we define a showImage function which incorporates the matrix slicing from above."
   ]
  },
  {
   "cell_type": "code",
   "execution_count": null,
   "metadata": {
    "nbpresent": {
     "id": "5fa15e50-acad-424b-a695-bc700ea716e6"
    }
   },
   "outputs": [],
   "source": [
    "def showImage(rasterstack,tindex,bandnbr,subset=None,vmin=None,vmax=None):\n",
    "    '''Input: \n",
    "    rasterstack stack of images in SAR power units\n",
    "    tindex time series date index\n",
    "    bandnbr bandnumber of the rasterstack to dissplay'''\n",
    "    fig = plt.figure(figsize=(16,8))\n",
    "    ax1 = fig.add_subplot(121)\n",
    "    ax2 = fig.add_subplot(122)\n",
    "    \n",
    "    # If vmin or vmax are None we use percentiles as limits:\n",
    "    if vmin==None: vmin=np.percentile(rasterstack[bandnbr-1].flatten(),5)\n",
    "    if vmax==None: vmax=np.percentile(rasterstack[bandnbr-1].flatten(),95)\n",
    "\n",
    "    ax1.imshow(rasterstack[bandnbr-1],cmap='gray',vmin=vmin,vmax=vmax)\n",
    "    ax1.set_title('Image Band {} {}'.format(bandnbr,tindex[bandnbr-1].date()))\n",
    "    if subset== None:\n",
    "        bands,ydim,xdim=rasterstack.shape\n",
    "        subset=(0,0,xdim,ydim)\n",
    "        \n",
    "    ax1.add_patch(patches.Rectangle((subset[0],subset[1]),subset[2],subset[3],fill=False,edgecolor='red'))\n",
    "    ax1.xaxis.set_label_text('Pixel')\n",
    "    ax1.yaxis.set_label_text('Line')\n",
    "    \n",
    "    ts_pwr=np.mean(rasterstack[:,subset[1]:(subset[1]+subset[3]),\n",
    "                       subset[0]:(subset[0]+subset[2])],axis=(1,2))\n",
    "    ts_dB=10.*np.log10(ts_pwr)\n",
    "    ax2.plot(tindex,ts_dB)\n",
    "    ax2.yaxis.set_label_text('$\\gamma^o$ [dB]')\n",
    "    ax2.set_title('$\\gamma^o$ Backscatter Time Series')\n",
    "    # Add a vertical line for the date where the image is displayed\n",
    "    ax2.axvline(tindex[bandnbr-1],color='red')\n",
    "\n",
    "    fig.autofmt_xdate()"
   ]
  },
  {
   "cell_type": "markdown",
   "metadata": {},
   "source": [
    "### Exercise\n",
    "Compare band 24 and band 43 visually"
   ]
  },
  {
   "cell_type": "code",
   "execution_count": null,
   "metadata": {
    "nbpresent": {
     "id": "900b45f9-53dc-4c52-ac9a-70e16734c91b"
    }
   },
   "outputs": [],
   "source": [
    "bandnbr=24  # \n",
    "subset=[5,20,3,3]\n",
    "# subset=[30,15,3,3]\n",
    "# subset=[12,10,3,3]"
   ]
  },
  {
   "cell_type": "code",
   "execution_count": null,
   "metadata": {
    "nbpresent": {
     "id": "ab7daebe-ccf9-4a78-a370-aef26630012d"
    }
   },
   "outputs": [],
   "source": [
    "showImage(rasterstack_pwr,tindex,bandnbr,subset)"
   ]
  },
  {
   "cell_type": "code",
   "execution_count": null,
   "metadata": {},
   "outputs": [],
   "source": [
    "bandnbr=43\n",
    "showImage(rasterstack_pwr,tindex,bandnbr,subset)"
   ]
  },
  {
   "cell_type": "markdown",
   "metadata": {},
   "source": [
    "### EXERCISE\n",
    "For subset (5,20,3,3):\n",
    "1. What are the dates where backscatter falls below - 11 dB?\n",
    "2. Compute the  gradients (backscatter difference between two consecutive dates. \n",
    "3. What is the largest gradient of backscatter drop between two consecutive dates? \n",
    "4. What are the dates associated with this gradient (before and after)?\n",
    "\n"
   ]
  },
  {
   "cell_type": "markdown",
   "metadata": {},
   "source": [
    "### Helper function the generate a time series object"
   ]
  },
  {
   "cell_type": "code",
   "execution_count": null,
   "metadata": {},
   "outputs": [],
   "source": [
    "def timeSeries(rasterstack_pwr,tindex,subset):\n",
    "    # Extract the means along the time series axes\n",
    "    # raster shape is time steps, lines, pixels. \n",
    "    # With axis=1,2, we average lines and pixels for each time \n",
    "    # step (axis 0)\n",
    "    ts_pwr=np.mean(rasterstack_pwr[:,subset[1]:(subset[1]+subset[3]),\n",
    "                       subset[0]:(subset[0]+subset[2])],axis=(1,2))\n",
    "    # convert the means to dB\n",
    "    ts_dB=10.*np.log10(ts_pwr)\n",
    "    # make the pandas time series object\n",
    "    ts = pd.Series(ts_dB,index=tindex)\n",
    "    # return it\n",
    "    return ts"
   ]
  },
  {
   "cell_type": "markdown",
   "metadata": {},
   "source": [
    "Using the timeSeries(...) function to make a time series object for the chosen subset:"
   ]
  },
  {
   "cell_type": "code",
   "execution_count": null,
   "metadata": {},
   "outputs": [],
   "source": [
    "ts = timeSeries(rasterstack_pwr,tindex,subset)"
   ]
  },
  {
   "cell_type": "markdown",
   "metadata": {},
   "source": [
    "Plot the object:"
   ]
  },
  {
   "cell_type": "code",
   "execution_count": null,
   "metadata": {},
   "outputs": [],
   "source": [
    "_=ts.plot(figsize=(16,4))  # _= is a trick to suppress more output."
   ]
  },
  {
   "cell_type": "markdown",
   "metadata": {},
   "source": [
    "### ENTER YOUR CODE HERE"
   ]
  },
  {
   "cell_type": "code",
   "execution_count": null,
   "metadata": {},
   "outputs": [],
   "source": [
    "# 1. What are the dates where backscatter falls below - 11 dB?\n"
   ]
  },
  {
   "cell_type": "code",
   "execution_count": null,
   "metadata": {},
   "outputs": [],
   "source": [
    "# 2. Compute the gradients (backscatter difference \n",
    "# between two consecutive dates.\n"
   ]
  },
  {
   "cell_type": "code",
   "execution_count": null,
   "metadata": {},
   "outputs": [],
   "source": [
    "# 3. What is the largest gradient of backscatter drop \n",
    "# between two consecutive dates? \n"
   ]
  },
  {
   "cell_type": "code",
   "execution_count": null,
   "metadata": {},
   "outputs": [],
   "source": [
    "# What are the dates associated with this gradient \n",
    "# (before and after)\n"
   ]
  },
  {
   "cell_type": "markdown",
   "metadata": {},
   "source": [
    "### Solutions:"
   ]
  },
  {
   "cell_type": "code",
   "execution_count": null,
   "metadata": {},
   "outputs": [],
   "source": [
    "# 1. \n",
    "ts[ts<-11].index"
   ]
  },
  {
   "cell_type": "code",
   "execution_count": null,
   "metadata": {},
   "outputs": [],
   "source": [
    "# 2.\n",
    "gradient_lag1 = ts.diff(1)\n",
    "gradient_lag1.plot()"
   ]
  },
  {
   "cell_type": "code",
   "execution_count": null,
   "metadata": {},
   "outputs": [],
   "source": [
    "# 3. \n",
    "gradient_lag1.min()"
   ]
  },
  {
   "cell_type": "code",
   "execution_count": null,
   "metadata": {},
   "outputs": [],
   "source": [
    "# 4.\n",
    "gradient_lag1[gradient_lag1==gradient_lag1.min()]"
   ]
  },
  {
   "cell_type": "code",
   "execution_count": null,
   "metadata": {},
   "outputs": [],
   "source": [
    "before = gradient_lag1[gradient_lag1==gradient_lag1.min()].index[0]\n",
    "before"
   ]
  },
  {
   "cell_type": "code",
   "execution_count": null,
   "metadata": {},
   "outputs": [],
   "source": [
    "after=tindex[tindex>before][0]\n",
    "after"
   ]
  },
  {
   "cell_type": "markdown",
   "metadata": {},
   "source": [
    "### Question: Can you field verify that change occured at this location between these two dates?"
   ]
  },
  {
   "cell_type": "markdown",
   "metadata": {},
   "source": [
    "## Seasonal Subsets of time series records\n",
    "Let's expand upon SAR time series analysis. Often it is desirable to subset time series by season or months to compare with similar conditions of a previous year's observation. For example, in analyzing C-Band backscatter data, it might be useful to limit comparative analysis to dry season observations only as soil moisture might confuse signals during the wet seasons. In this section we will expand upon the concepts of subsetting time series along the time axis. We will make use of the pandas datatime index tools\n",
    "\n",
    "- month\n",
    "- day of year \n",
    "\n",
    "First we extract the time series again for a hectare the pixel at the subset location (5,20,5,5). We then convert the pandas time series to a pandas DataFrame to allow for more processing options. We also label the data value column as 'g0' for gamma0:"
   ]
  },
  {
   "cell_type": "code",
   "execution_count": null,
   "metadata": {},
   "outputs": [],
   "source": [
    "subset=(5,20,5,5)\n",
    "ts = timeSeries(rasterstack_pwr,tindex,subset)\n",
    "tsdf = pd.DataFrame(ts,index=ts.index,columns=['g0'])\n",
    "\n",
    "# Plot\n",
    "ylim=(-20,-5)\n",
    "tsdf.plot(figsize=(16,4))\n",
    "plt.title('Sentinel-1 C-VV Time Series Backscatter Profile, Subset: 5,20,5,5  ')\n",
    "plt.ylabel('$\\gamma^o$ [dB]')\n",
    "plt.ylim(ylim)\n",
    "_=plt.legend([\"C-VV Time Series\"])"
   ]
  },
  {
   "cell_type": "markdown",
   "metadata": {},
   "source": [
    "### Start the time series in November 2015 \n",
    "We can use the pandas index parameters like month to make seasonal subsets"
   ]
  },
  {
   "cell_type": "code",
   "execution_count": null,
   "metadata": {
    "nbpresent": {
     "id": "999d39db-69fe-4d7c-998f-398dae073a52"
    }
   },
   "outputs": [],
   "source": [
    "tsdf_sub1=tsdf[tsdf.index>'2015-11-01']\n",
    "\n",
    "# Plot\n",
    "tsdf_sub1.plot(figsize=(16,4))\n",
    "plt.title('Sentinel-1 C-VV Time Series Backscatter Profile, Subset: {}'.format(subset))\n",
    "plt.ylabel('$\\gamma^o$ [dB]')\n",
    "plt.ylim(ylim)\n",
    "_=plt.legend([\"C-VV Time Series\"])"
   ]
  },
  {
   "cell_type": "markdown",
   "metadata": {
    "nbpresent": {
     "id": "c46d1bf2-d67f-4869-bde6-ddc855dd1632"
    }
   },
   "source": [
    "### Subset by months: \n",
    "\n",
    "We can make use of pandas DateTimeIndex object **index.month** and numpy's **logical_and** function to subset a time series easily by month.\n",
    "\n",
    "####  March to May data only"
   ]
  },
  {
   "cell_type": "code",
   "execution_count": null,
   "metadata": {},
   "outputs": [],
   "source": [
    "tsdf_sub2=tsdf_sub1[\n",
    "    np.logical_and(tsdf_sub1.index.month>=3,tsdf_sub1.index.month<=5)]\n",
    "\n",
    "# Plot\n",
    "fig, ax = plt.subplots(figsize=(16,4))\n",
    "tsdf_sub2.plot(ax=ax)\n",
    "plt.title('Sentinel-1 C-VV Time Series Backscatter Profile, Subset: {}'\n",
    "          .format(subset))\n",
    "plt.ylabel('$\\gamma^o$ [dB]')\n",
    "plt.ylim(ylim)\n",
    "_=plt.legend([\"March-May\"])"
   ]
  },
  {
   "cell_type": "markdown",
   "metadata": {},
   "source": [
    "####  All other months\n",
    "Using numpy's boolean **invert** function, we can invert a selection and in this example get to all other months:"
   ]
  },
  {
   "cell_type": "code",
   "execution_count": null,
   "metadata": {},
   "outputs": [],
   "source": [
    "tsdf_sub3=tsdf_sub1[np.invert(\n",
    "    np.logical_and(tsdf_sub1.index.month>=3,tsdf_sub1.index.month<=5))]\n",
    "\n",
    "# Plot\n",
    "fig, ax = plt.subplots(figsize=(16,4))\n",
    "tsdf_sub3.plot(ax=ax)\n",
    "plt.title('Sentinel-1 C-VV Time Series Backscatter Profile, Subset: {}'\n",
    "          .format(subset))\n",
    "plt.ylabel('$\\gamma^o$ [dB]')\n",
    "plt.ylim(ylim)\n",
    "_=plt.legend([\"June-February\"])"
   ]
  },
  {
   "cell_type": "markdown",
   "metadata": {},
   "source": [
    "###  Group time series by Year to compare average backscatter values\n"
   ]
  },
  {
   "cell_type": "code",
   "execution_count": null,
   "metadata": {},
   "outputs": [],
   "source": [
    "ts_sub_by_year = tsdf_sub1.groupby(pd.Grouper(freq=\"Y\"))"
   ]
  },
  {
   "cell_type": "code",
   "execution_count": null,
   "metadata": {},
   "outputs": [],
   "source": [
    "fig, ax = plt.subplots(figsize=(16,4))\n",
    "for label, df in ts_sub_by_year:\n",
    "    df.g0.plot(ax=ax, label=label.year)\n",
    "plt.legend()\n",
    "# ts_sub_by_year.plot(ax=ax)\n",
    "plt.title('Sentinel-1 C-VV Time Series Backscatter Profile, Subset: {}'\n",
    "          .format(subset))\n",
    "plt.ylabel('$\\gamma^o$ [dB]')\n",
    "plt.ylim(ylim)\n"
   ]
  },
  {
   "cell_type": "markdown",
   "metadata": {},
   "source": [
    "### Make a pivot table to group year and sort by day of year for plotting overlapping time series\n",
    "First we add two coluns to the data frame:\n",
    "- day of year (doy)\n",
    "- year"
   ]
  },
  {
   "cell_type": "code",
   "execution_count": null,
   "metadata": {},
   "outputs": [],
   "source": [
    "# Add doy\n",
    "tsdf_sub1 = tsdf_sub1.assign(doy=tsdf_sub1.index.dayofyear)\n",
    "# Add year\n",
    "tsdf_sub1 = tsdf_sub1.assign(year=tsdf_sub1.index.year)"
   ]
  },
  {
   "cell_type": "markdown",
   "metadata": {},
   "source": [
    "Then a pivot table gets created which has day of year as the index and years as columns:"
   ]
  },
  {
   "cell_type": "code",
   "execution_count": null,
   "metadata": {},
   "outputs": [],
   "source": [
    "piv=pd.pivot_table(tsdf_sub1,index=['doy'],columns=['year'],values=['g0'])\n",
    "# Set the names for the column indices\n",
    "piv.columns.set_names(['g0','Year'],inplace=True) \n",
    "print(piv.head(10))\n",
    "print('...\\n',piv.tail(10))"
   ]
  },
  {
   "cell_type": "code",
   "execution_count": null,
   "metadata": {},
   "outputs": [],
   "source": [
    "piv.columns.set_names(['g0','year'],inplace=True)"
   ]
  },
  {
   "cell_type": "markdown",
   "metadata": {},
   "source": [
    "As we can see, there are NaN values on the days in a year where no acquisition took place. Now we use time weighted interpolation to fill the dates for all the observations in any given year. For **time weighted interpolation** to work we need to create a dummy year as a date index, perform the interplation, and reset the index to the day of year. This is accomplished with the following steps:"
   ]
  },
  {
   "cell_type": "code",
   "execution_count": null,
   "metadata": {},
   "outputs": [],
   "source": [
    "# Add fake dates for year 100 to enable time sensitive interpolation \n",
    "# of missing values in the pivot table\n",
    "year_doy = ['2100-{}'.format(x) for x in piv.index]\n",
    "y100_doy=pd.DatetimeIndex(pd.to_datetime(year_doy,format='%Y-%j'))\n",
    "\n",
    "# make a copy of the piv table and add two columns\n",
    "piv2=piv.copy()\n",
    "piv2=piv2.assign(d100=y100_doy) # add the fake year dates\n",
    "piv2=piv2.assign(doy=piv2.index) # add doy as a column to replace as index later again\n",
    "\n",
    "# Set the index to the dummy year\n",
    "piv2.set_index('d100',inplace=True,drop=True)\n",
    "\n",
    "# PERFORM THE TIME WEIGHTED INTERPOLATION\n",
    "piv2 = piv2.interpolate(method='time')  # TIME WEIGHTED INTERPOLATION!\n",
    "\n",
    "# Set the index back to day of year.\n",
    "piv2.set_index('doy',inplace=True,drop=True)"
   ]
  },
  {
   "cell_type": "markdown",
   "metadata": {},
   "source": [
    "Let's inspect the new pivot table and see wheather we interpolated the NaN values where it made sense:"
   ]
  },
  {
   "cell_type": "code",
   "execution_count": null,
   "metadata": {},
   "outputs": [],
   "source": [
    "print(piv2.head(10))\n",
    "print('...\\n',piv2.tail(10))"
   ]
  },
  {
   "cell_type": "markdown",
   "metadata": {},
   "source": [
    "Now we can plot the time series data with overlapping years "
   ]
  },
  {
   "cell_type": "code",
   "execution_count": null,
   "metadata": {
    "scrolled": false
   },
   "outputs": [],
   "source": [
    "piv2.plot(figsize=(16,8))\n",
    "plt.title('Sentinel-1 C-VV Time Series Backscatter Profile,\\\n",
    "Subset: 5,20,5,5  ')\n",
    "plt.ylabel('$\\gamma^o$ [dB]')\n",
    "plt.xlabel('Day of Year')\n",
    "_=plt.ylim(ylim)"
   ]
  },
  {
   "cell_type": "markdown",
   "metadata": {},
   "source": [
    "# Change Detection on the Time Series Data\n",
    "The goal being change detection we can now analyze the time series data for change. We will discuss two approaches:\n",
    "1. Year-to-year differencing of the subsetted time series\n",
    "2. Cumulative Sum based change detection"
   ]
  },
  {
   "cell_type": "code",
   "execution_count": null,
   "metadata": {},
   "outputs": [],
   "source": [
    "# Difference between years\n",
    "# Set a dB change threshold\n",
    "thres=3"
   ]
  },
  {
   "cell_type": "code",
   "execution_count": null,
   "metadata": {},
   "outputs": [],
   "source": [
    "diff1716 = (piv2.g0[2017]-piv2.g0[2016])"
   ]
  },
  {
   "cell_type": "markdown",
   "metadata": {},
   "source": [
    "## Year-to-Year Change Detection\n",
    "\n",
    "We compute the differences between the interpolated time series and look for change with a threshold value."
   ]
  },
  {
   "cell_type": "code",
   "execution_count": null,
   "metadata": {},
   "outputs": [],
   "source": [
    "_=diff1716.plot('line')"
   ]
  },
  {
   "cell_type": "code",
   "execution_count": null,
   "metadata": {},
   "outputs": [],
   "source": [
    "thres_exceeded = diff1716[abs(diff1716) > thres]\n",
    "thres_exceeded"
   ]
  },
  {
   "cell_type": "markdown",
   "metadata": {},
   "source": [
    "From the three_exceeded dataframe we can infer the first date at which the threshold was exeeded. We would label that as a change point. As an additional criteria for labeling a change point, one can also consider the number of observations after identification of a change point where backscatter differed from the year before. If only one or two observations differed from the year before this could be considered an outlier. Addtionally, one can introduce smoothing operations with the interpolation, e.g. a \n",
    "\n",
    "\n",
    "### EXERCISE:\n",
    "Work through the workbook again with selection of a different point and determine if it is a change point.\n",
    "\n",
    "\n",
    "\n",
    "## Cumulative Sums for Change Detection\n",
    "Another approach to detect change in regularly acquired data is employing cumulative sums. Changes are determined against mean observations of time series. A full explanation and examples from the the financial sector can be found at [http://www.variation.com/cpa/tech/changepoint.html](http://www.variation.com/cpa/tech/changepoint.html)\n",
    "\n",
    "### Time Series and means\n",
    "First let's consider a time series and it's mean observation. \n",
    "We look at two full years of observations from Sentinel-1 data for an area where we suspect change. In the following we consider $X$ as a time series\n",
    "\n",
    "$X = (X_1,X_2,...,X_n)$\n",
    "\n",
    "with\n",
    "\n",
    "- $X_i$  SAR backscatter at time $i=1,...,n$\n",
    "- $n$ number of observations in the time series"
   ]
  },
  {
   "cell_type": "code",
   "execution_count": null,
   "metadata": {},
   "outputs": [],
   "source": [
    "subset=(5,20,3,3)\n",
    "#subset=(12,5,3,3)\n",
    "ts1 = timeSeries(rasterstack_pwr,tindex,subset)\n",
    "X = ts1[ts1.index>'2015-10-31']"
   ]
  },
  {
   "cell_type": "markdown",
   "metadata": {},
   "source": [
    "## Filtering the time series for outliers\n",
    "It is advantagous in noisy SAR time series data like C-Band data to filter  on the time axis. Pandas offers a \"rolling\" function for these purposes. With that function we can choose for example a median filter along the time axis. Below is an example of you a median filter for an observation filters the time series when the observation before and after a time stamps are part of the filter. \n",
    "\n",
    " "
   ]
  },
  {
   "cell_type": "code",
   "execution_count": null,
   "metadata": {},
   "outputs": [],
   "source": [
    "Xr=X.rolling(5,center=True).median()\n",
    "Xr.plot()\n",
    "_=X.plot()"
   ]
  },
  {
   "cell_type": "markdown",
   "metadata": {},
   "source": [
    "Let's plot the time series and it's mean over the time span"
   ]
  },
  {
   "cell_type": "code",
   "execution_count": null,
   "metadata": {},
   "outputs": [],
   "source": [
    "X=Xr  # Uncomment if rolling mean is wanted for further computation\n",
    "Xmean = X.mean()"
   ]
  },
  {
   "cell_type": "code",
   "execution_count": null,
   "metadata": {},
   "outputs": [],
   "source": [
    "fig,ax=plt.subplots(figsize=(16,4))\n",
    "X.plot()\n",
    "plt.ylabel('$\\gamma^o$ [dB]')\n",
    "ax.axhline(Xmean,color='red')\n",
    "_=plt.legend(['$\\gamma^o$','$\\overline{\\gamma^o}$'])"
   ]
  },
  {
   "cell_type": "markdown",
   "metadata": {},
   "source": [
    "Let's determind the residuals of the time series against the mean'\n",
    "\n",
    "$R = X_i -\\overline{X}$"
   ]
  },
  {
   "cell_type": "code",
   "execution_count": null,
   "metadata": {},
   "outputs": [],
   "source": [
    "R = X - Xmean"
   ]
  },
  {
   "cell_type": "markdown",
   "metadata": {},
   "source": [
    "Now we compute the cumulative sum of the residuals and plot it:\n",
    "\n",
    "$S = \\displaystyle\\sum_1^n{R_i}$"
   ]
  },
  {
   "cell_type": "code",
   "execution_count": null,
   "metadata": {},
   "outputs": [],
   "source": [
    "S = R.cumsum()\n",
    "\n",
    "_=S.plot(figsize=(16,8))"
   ]
  },
  {
   "cell_type": "markdown",
   "metadata": {},
   "source": [
    "An estimator for the magnitude of change is given as the difference between the maximum and minimum value of S\n",
    "\n",
    "$S_{DIFF} = S_{MAX} - S_{MIN}$"
   ]
  },
  {
   "cell_type": "code",
   "execution_count": null,
   "metadata": {},
   "outputs": [],
   "source": [
    "Sdiff=S.max() - S.min()\n",
    "Sdiff"
   ]
  },
  {
   "cell_type": "markdown",
   "metadata": {},
   "source": [
    "A candidate change point is identified from the $S$ curve at the time where $S_{MAX}$ is found:\n",
    "\n",
    "$T_{{CP}_{before}} = T(S_i = S_{MAX})$\n",
    "\n",
    "with\n",
    "\n",
    "- $T_{{CP}_{before}}$ Timestamp of last observation before change\n",
    "- $S_i$    Cumulative Sum of R with $i=1,...n$\n",
    "- $n$      Number of observations in the time series \n",
    "\n",
    "The first observation after change occured ($T_{{CP}_{after}}$) is then found as the first observation in the time series following $T_{{CP}_{before}}$.\n",
    "\n",
    "For our example time series X these points are:"
   ]
  },
  {
   "cell_type": "code",
   "execution_count": null,
   "metadata": {},
   "outputs": [],
   "source": [
    "t_cp_before = S[S==S.max()].index[0]\n",
    "print('Last date before change: {}'.format(t_cp_before.date()))"
   ]
  },
  {
   "cell_type": "code",
   "execution_count": null,
   "metadata": {},
   "outputs": [],
   "source": [
    "t_cp_after = S[S.index > t_cp_before].index[0]\n",
    "print('First date after change: {}'.format(t_cp_after.date()))"
   ]
  },
  {
   "cell_type": "markdown",
   "metadata": {},
   "source": [
    "## Bootstrapping the cumulative sums by randomly reordering the time series\n",
    "\n",
    "We can determine if an identified change point is indeed a valid detection by randomly reordring the time series and comparing the various S curves. During bootstrapping we count how many times the $S_{DIFF}$ values are greater than $S_{{DIFF}_{random}}$ of the identified change point. A confindence level $CL$ is computed as\n",
    "\n",
    "$CL = \\frac{N_{GT}}{N_{bootstraps}}$\n",
    "\n",
    "with \n",
    "\n",
    "- $N_{GT}$    Number of times $S_{DIFF}$ > $S_{{DIFF}_{random}}$  \n",
    "- $N_{bootstraps}$    Number of bootstraps randomizing $R$\n",
    "\n",
    "Another metric for the significance of a change point is 1 minus the ratio of the mean of the $S_{{DIFF}_{random}}$ values and $S_{DIFF}$. The closer this value is approaching 1, the more significant the change point: \n",
    "\n",
    "$CP_{significance} = 1 - \\left( \\frac{\\sum_{b=1}^{N_{bootstraps}}{S_{{DIFF}_{{random}_i}}}}{N_{bootstraps}} \\middle/ S_{DIFF} \\right)$\n",
    "\n",
    "The python code to conduct the boot strapping, including visualization of the S curves is below:"
   ]
  },
  {
   "cell_type": "code",
   "execution_count": null,
   "metadata": {},
   "outputs": [],
   "source": [
    "n_bootstraps=500  # bootstrap sample size\n",
    "fig,ax = plt.subplots(figsize=(16,8))\n",
    "S.plot(ax=ax,linewidth=3)\n",
    "ax.set_ylabel('Cumulative Sums of the Residuals')\n",
    "fig.legend(['S Curve for Candidate Change Point'],loc=3)\n",
    "Sdiff_random_sum=0\n",
    "Sdiff_random_max=0  # to keep track of the maxium Sdiff of the \n",
    "               # bootstrapped sample\n",
    "n_Sdiff_gt_Sdiff_random=0  # to keep track of the maxium Sdiff of the \n",
    "               # bootstrapped sample\n",
    "for i in range(n_bootstraps):\n",
    "    Rrandom = R.sample(frac=1)  # Randomize the time steps of the residuals\n",
    "    Srandom = Rrandom.cumsum()\n",
    "    Sdiff_random=Srandom.max()-Srandom.min()\n",
    "    Sdiff_random_sum += Sdiff_random\n",
    "    if Sdiff_random > Sdiff_random_max:\n",
    "        Sdiff_random_max = Sdiff_random\n",
    "    if Sdiff > Sdiff_random:\n",
    "        n_Sdiff_gt_Sdiff_random += 1\n",
    "    Srandom.plot(ax=ax)\n",
    "_=ax.axhline(Sdiff_random_sum/n_bootstraps)"
   ]
  },
  {
   "cell_type": "code",
   "execution_count": null,
   "metadata": {},
   "outputs": [],
   "source": [
    "CL = 1.*n_Sdiff_gt_Sdiff_random/n_bootstraps\n",
    "print('Confidence Level for change point {} percent'.format(CL*100.))"
   ]
  },
  {
   "cell_type": "code",
   "execution_count": null,
   "metadata": {},
   "outputs": [],
   "source": [
    "CP_significance = 1. - (Sdiff_random_sum/n_bootstraps)/Sdiff \n",
    "print('Change point significance metric: {}'.format(CP_significance))"
   ]
  },
  {
   "cell_type": "markdown",
   "metadata": {},
   "source": [
    "Another useful metric to determine strength of a change point is the normalized integral $S_{ni}$ of the absolute values of the S curve:\n",
    "\n",
    "$S_{normintegral} = \\frac{\\int_{i=1}^n \\frac{abs(S_i)}{\\max{abs(S)}} } {n}$"
   ]
  },
  {
   "cell_type": "code",
   "execution_count": null,
   "metadata": {
    "scrolled": true
   },
   "outputs": [],
   "source": [
    "# NaN's to be excluded in the computation \n",
    "S_ni=(S.abs()/S.abs().max()).cumsum().max()/len(S[S != np.nan])\n",
    "print('Normalized Integral of cumulative sum: {}'.format(S_ni))"
   ]
  },
  {
   "cell_type": "markdown",
   "metadata": {},
   "source": [
    "### EXERCISE\n",
    "Conduct the change point analysis for different subsets in the traning data"
   ]
  },
  {
   "cell_type": "markdown",
   "metadata": {},
   "source": [
    "## Selection of threshold values\n",
    "$CL$ and $CP_{significance}$ can be used as threshold values for the acceptance or rejection of a candidate threshold. These values are to some degree specific to a SAR sensor and environmental conditions. E.g. L-Band SAR has a more pronounced decrease in backscatter after forest disturbance and logging, whereas C-Band can have more ambigious signals. Also moisture regime changes, e.g. with snow cover, freeze/thaw conditions or dry/wet season changes have an influence on the time series signal. For example El Nino years can suggest changes solely due to different wetting and dryup conditions pertinent to a particular year. For this reason other techniques  can be added to the SAR time series ananlysis. Two techniques can readily be thought of:\n",
    "\n",
    "- Subsetting of time series by seasons\n",
    "- Detrending time series with global image means\n",
    "\n",
    "If year-to-year comparison is the focus, the first approach likely leads to subsets that are too small for meaningful cumulative sum change point detection. The approach of interannual differencing as discussed above likely performs better.\n",
    "\n",
    "\n",
    "In the following we explore the approach to detrend the data with global image means."
   ]
  },
  {
   "cell_type": "markdown",
   "metadata": {},
   "source": [
    "### De-trending time series with global image means\n",
    "The idea of de-trending time series with global image meams should prepare time series for a somewhat robuster change point detection as global image time series anomalies stemming calibration or seasonal trends are removed prior to time series analysis. This de-trending needs to be performed with large subsets so real change is not influencing the image statistics. \n",
    "\n",
    "NOTE: For our small subset, we will see  some of these effects.\n",
    "\n",
    "Let's start by building a global image means time series:"
   ]
  },
  {
   "cell_type": "code",
   "execution_count": null,
   "metadata": {},
   "outputs": [],
   "source": [
    "means_pwr = np.mean(rasterstack_pwr,axis=(1,2))\n",
    "means_dB = 10.*np.log10(means_pwr)\n",
    "gm_ts = pd.Series(means_dB,index=tindex)\n",
    "gm_ts=gm_ts[gm_ts.index > '2015-10-31']  # filter dates\n",
    "gm_ts=gm_ts.rolling(5,center=True).median()"
   ]
  },
  {
   "cell_type": "code",
   "execution_count": null,
   "metadata": {},
   "outputs": [],
   "source": [
    "gm_ts.plot()"
   ]
  },
  {
   "cell_type": "code",
   "execution_count": null,
   "metadata": {},
   "outputs": [],
   "source": [
    "X.plot()"
   ]
  },
  {
   "cell_type": "code",
   "execution_count": null,
   "metadata": {},
   "outputs": [],
   "source": [
    "Xd=X-gm_ts\n",
    "Xmean=Xd.mean()\n",
    "Xd.plot()"
   ]
  },
  {
   "cell_type": "code",
   "execution_count": null,
   "metadata": {},
   "outputs": [],
   "source": [
    "R = Xd - Xmean"
   ]
  },
  {
   "cell_type": "markdown",
   "metadata": {},
   "source": [
    "Now we compute the cumulative sum of the residuals and plot it:\n",
    "\n",
    "$S = \\displaystyle\\sum_1^n{R_i}$"
   ]
  },
  {
   "cell_type": "code",
   "execution_count": null,
   "metadata": {},
   "outputs": [],
   "source": [
    "S = R.cumsum()\n",
    "\n",
    "_=S.plot(figsize=(16,8))"
   ]
  },
  {
   "cell_type": "markdown",
   "metadata": {},
   "source": [
    "An estimator for the magnitude of change is given as the difference between the maximum and minimum value of S\n",
    "\n",
    "$S_{DIFF} = S_{MAX} - S_{MIN}$"
   ]
  },
  {
   "cell_type": "code",
   "execution_count": null,
   "metadata": {},
   "outputs": [],
   "source": [
    "Sdiff=S.max() - S.min()\n",
    "Sdiff"
   ]
  },
  {
   "cell_type": "markdown",
   "metadata": {},
   "source": [
    "A candidate change point is identified from the $S$ curve at the time where $S_{MAX}$ is found:\n",
    "\n",
    "$T_{{CP}_{before}} = T(S_i = S_{MAX})$\n",
    "\n",
    "with\n",
    "\n",
    "- $T_{{CP}_{before}}$ Timestamp of last observation before change\n",
    "- $S_i$    Cumulative Sum of R with $i=1,...n$\n",
    "- $n$      Number of observations in the time series \n",
    "\n",
    "The first observation after change occured ($T_{{CP}_{after}}$) is then found as the first observation in the time series following $T_{{CP}_{before}}$.\n",
    "\n",
    "For our example time series X these points are:"
   ]
  },
  {
   "cell_type": "code",
   "execution_count": null,
   "metadata": {},
   "outputs": [],
   "source": [
    "t_cp_before = S[S==S.max()].index[0]\n",
    "print('Last date before change: {}'.format(t_cp_before.date()))"
   ]
  },
  {
   "cell_type": "code",
   "execution_count": null,
   "metadata": {},
   "outputs": [],
   "source": [
    "t_cp_after = S[S.index > t_cp_before].index[0]\n",
    "print('First date after change: {}'.format(t_cp_after.date()))"
   ]
  },
  {
   "cell_type": "markdown",
   "metadata": {},
   "source": [
    "## Bootstrapping the cumulative sums by randomly reordering the time series\n",
    "\n",
    "We can determine if an identified change point is indeed a valid detection by randomly reordring the time series and comparing the various S curves. During bootstrapping we count how many times the $S_{DIFF}$ values are greater than $S_{{DIFF}_{random}}$ of the identified change point. A confindence level $CL$ is computed as\n",
    "\n",
    "$CL = \\frac{N_{GT}}{N_{bootstraps}}$\n",
    "\n",
    "with \n",
    "\n",
    "- $N_{GT}$    Number of times $S_{DIFF}$ > $S_{{DIFF}_{random}}$  \n",
    "- $N_{bootstraps}$    Number of bootstraps randomizing $R$\n",
    "\n",
    "Another metric for the significance of a change point is 1 minus the ratio of the mean of the $S_{{DIFF}_{random}}$ values and $S_{DIFF}$. The closer this value is approaching 1, the more significant the change point: \n",
    "\n",
    "$CP_{significance} = 1 - \\left( \\frac{\\sum_{b=1}^{N_{bootstraps}}{S_{{DIFF}_{{random}_i}}}}{N_{bootstraps}} \\middle/ S_{DIFF} \\right)$\n",
    "\n",
    "The python code to conduct the boot strapping, including visualization of the S curves is below:"
   ]
  },
  {
   "cell_type": "code",
   "execution_count": null,
   "metadata": {},
   "outputs": [],
   "source": [
    "n_bootstraps=500  # bootstrap sample size\n",
    "fig,ax = plt.subplots(figsize=(16,8))\n",
    "S.plot(ax=ax,linewidth=3)\n",
    "ax.set_ylabel('Cumulative Sums of the Residuals')\n",
    "fig.legend(['S Curve for Candidate Change Point'],loc=3)\n",
    "Sdiff_random_sum=0\n",
    "Sdiff_random_max=0  # to keep track of the maxium Sdiff of the \n",
    "               # bootstrapped sample\n",
    "n_Sdiff_gt_Sdiff_random=0  # to keep track of the maxium Sdiff of the \n",
    "               # bootstrapped sample\n",
    "for i in range(n_bootstraps):\n",
    "    Rrandom = R.sample(frac=1)  # Randomize the time steps of the residuals\n",
    "    Srandom = Rrandom.cumsum()\n",
    "    Sdiff_random=Srandom.max()-Srandom.min()\n",
    "    Sdiff_random_sum += Sdiff_random\n",
    "    if Sdiff_random > Sdiff_random_max:\n",
    "        Sdiff_random_max = Sdiff_random\n",
    "    if Sdiff > Sdiff_random:\n",
    "        n_Sdiff_gt_Sdiff_random += 1\n",
    "    Srandom.plot(ax=ax)\n",
    "_=ax.axhline(Sdiff_random_sum/n_bootstraps)"
   ]
  },
  {
   "cell_type": "code",
   "execution_count": null,
   "metadata": {},
   "outputs": [],
   "source": [
    "CL = n_Sdiff_gt_Sdiff_random/n_bootstraps\n",
    "print('Confidence Level for change point {} percent'.format(CL*100.))"
   ]
  },
  {
   "cell_type": "code",
   "execution_count": null,
   "metadata": {},
   "outputs": [],
   "source": [
    "CP_significance = 1. - (Sdiff_random_sum/n_bootstraps)/Sdiff \n",
    "print('Change point significance metric: {}'.format(CP_significance))"
   ]
  },
  {
   "cell_type": "markdown",
   "metadata": {},
   "source": [
    "Another useful metric to determine strength of a change point is the normalized integral $S_{ni}$ of the absolute values of the S curve:\n",
    "\n",
    "$S_{normintegral} = \\frac{\\int_{i=1}^n \\frac{abs(S_i)}{\\max{abs(S)}} } {n}$"
   ]
  },
  {
   "cell_type": "code",
   "execution_count": null,
   "metadata": {
    "scrolled": true
   },
   "outputs": [],
   "source": [
    "S_ni=(S.abs()/S.abs().max()).cumsum().max()/len(S[S != np.nan])\n",
    "print('Normalized Integral of cumulative sum: {}'.format(S_ni))"
   ]
  },
  {
   "cell_type": "markdown",
   "metadata": {},
   "source": [
    "## Cumulative Sum Change Detection for the entire image\n",
    "With numpy arrays we can apply the concept of cumulative sum change detection analysis effectively on the entire image stacke. We take advantage of array slicing and axis-based computing in numpy. axis 0 is the time time domain in out raster stacks"
   ]
  },
  {
   "cell_type": "code",
   "execution_count": null,
   "metadata": {},
   "outputs": [],
   "source": [
    "# Test this also in the dB scale We'll work in the dB scale\n",
    "X = rasterstack_pwr\n",
    "# Filter out the first layer ( Dates >= '2015-11-1')\n",
    "X_sub=X[1:,:,:]\n",
    "tindex_sub=tindex[1:]\n",
    "X= 10.*np.log10(X_sub)  # Uncomeent to test dB scale "
   ]
  },
  {
   "cell_type": "code",
   "execution_count": null,
   "metadata": {},
   "outputs": [],
   "source": [
    "plt.figure()\n",
    "bandnbr=0\n",
    "vmin=np.percentile(X[bandnbr],5)\n",
    "vmax=np.percentile(X[bandnbr],95)\n",
    "plt.title('Band  {} {}'.format(bandnbr+1,tindex_sub[bandnbr].date()))\n",
    "plt.imshow(X[0],cmap='gray',vmin=vmin,vmax=vmax)\n",
    "_=plt.colorbar()"
   ]
  },
  {
   "cell_type": "code",
   "execution_count": null,
   "metadata": {},
   "outputs": [],
   "source": [
    "Xmean=np.mean(X,axis=0)"
   ]
  },
  {
   "cell_type": "code",
   "execution_count": null,
   "metadata": {},
   "outputs": [],
   "source": [
    "R=X-Xmean"
   ]
  },
  {
   "cell_type": "code",
   "execution_count": null,
   "metadata": {},
   "outputs": [],
   "source": [
    "plt.imshow(R[0])\n",
    "plt.title('Redsiduals')\n",
    "_=plt.colorbar()\n"
   ]
  },
  {
   "cell_type": "code",
   "execution_count": null,
   "metadata": {},
   "outputs": [],
   "source": [
    "S = np.cumsum(R,axis=0)\n",
    "Smax= np.max(S,axis=0)\n",
    "Smin= np.min(S,axis=0)\n",
    "Sdiff=Smax-Smin\n",
    "fig,ax=plt.subplots(1,3,figsize=(16,4))\n",
    "vmin=Smin.min()\n",
    "vmax=Smax.max()\n",
    "p=ax[0].imshow(Smax,vmin=vmin,vmax=vmax)\n",
    "ax[0].set_title('$S_{max}$')\n",
    "ax[1].imshow(Smin,vmin=vmin,vmax=vmax)\n",
    "ax[1].set_title('$S_{min}$')\n",
    "ax[2].imshow(Sdiff,vmin=vmin,vmax=vmax)\n",
    "ax[2].set_title('$S_{diff}$')\n",
    "fig.subplots_adjust(right=0.8)\n",
    "cbar_ax = fig.add_axes([0.85, 0.15, 0.05, 0.7])\n",
    "_=fig.colorbar(p,cax=cbar_ax)"
   ]
  },
  {
   "cell_type": "markdown",
   "metadata": {},
   "source": [
    "## Mask Sdiff with a priori threshold for expected change\n",
    "If we have an assumption as to how much actual change we expect in the image, we can threshold $S_{diff}$ to reduce computiation of the bootstrapping. For land cover chaangem we would not expect more than 5-10% change in a landscape. So, if the test region is reasonably large, setting a threshold for expected change to 10% would be appropriate. Thus we can set a mask with the 90th percentile of the histogram of $S_{diff}$. In our example we'll start out with a very conservative threshold of 50%.\n",
    "\n",
    "The histogram for $S_{diff}$ is shown below.\n",
    "\n"
   ]
  },
  {
   "cell_type": "code",
   "execution_count": null,
   "metadata": {},
   "outputs": [],
   "source": [
    "h=plt.hist(Sdiff.flatten(),bins=50)"
   ]
  },
  {
   "cell_type": "markdown",
   "metadata": {},
   "source": [
    "At the 50% percentile, the threshold value is"
   ]
  },
  {
   "cell_type": "code",
   "execution_count": null,
   "metadata": {},
   "outputs": [],
   "source": [
    "thres=np.percentile(h[1],50)\n",
    "thres"
   ]
  },
  {
   "cell_type": "markdown",
   "metadata": {},
   "source": [
    "Using this threshold, we can visualize the candidate changpoints:"
   ]
  },
  {
   "cell_type": "code",
   "execution_count": null,
   "metadata": {},
   "outputs": [],
   "source": [
    "Sdiffmask=Sdiff<thres\n",
    "_=plt.imshow(Sdiffmask,cmap='gray')"
   ]
  },
  {
   "cell_type": "markdown",
   "metadata": {},
   "source": [
    "Now we can filter our Residuals and perform bootstrapping analysis on these data. We make use of numpy masekd arrays for this purpose.\n"
   ]
  },
  {
   "cell_type": "code",
   "execution_count": null,
   "metadata": {},
   "outputs": [],
   "source": [
    "Rmask = np.broadcast_to(Sdiffmask,R.shape)"
   ]
  },
  {
   "cell_type": "code",
   "execution_count": null,
   "metadata": {},
   "outputs": [],
   "source": [
    "Rmasked = np.ma.array(R,mask=Rmask)"
   ]
  },
  {
   "cell_type": "markdown",
   "metadata": {},
   "source": [
    "On the masked time series stack of residuals we can computed the cumulative sums:"
   ]
  },
  {
   "cell_type": "code",
   "execution_count": null,
   "metadata": {},
   "outputs": [],
   "source": [
    "Smasked = np.ma.cumsum(Rmasked,axis=0)"
   ]
  },
  {
   "cell_type": "markdown",
   "metadata": {},
   "source": [
    "$S_{MAX}$, $S_{MIN}$, $S_{DIFF}$ can also be computed on the masked arrays :"
   ]
  },
  {
   "cell_type": "code",
   "execution_count": null,
   "metadata": {},
   "outputs": [],
   "source": [
    "plt.imshow(Rmasked.mask[0])"
   ]
  },
  {
   "cell_type": "code",
   "execution_count": null,
   "metadata": {},
   "outputs": [],
   "source": [
    "Smasked = np.ma.cumsum(Rmasked,axis=0)\n",
    "Smasked_max= np.ma.max(Smasked,axis=0)\n",
    "Smasked_min= np.ma.min(Smasked,axis=0)\n",
    "Smasked_diff=Smasked_max-Smasked_min\n",
    "fig,ax=plt.subplots(1,3,figsize=(16,4))\n",
    "vmin=Smasked_min.min()\n",
    "vmax=Smasked_max.max()\n",
    "p=ax[0].imshow(Smasked_max,vmin=vmin,vmax=vmax)\n",
    "ax[0].set_title('$S_{max}$')\n",
    "ax[1].imshow(Smasked_min,vmin=vmin,vmax=vmax)\n",
    "ax[1].set_title('$S_{min}$')\n",
    "ax[2].imshow(Smasked_diff,vmin=vmin,vmax=vmax)\n",
    "ax[2].set_title('$S_{diff}$')\n",
    "fig.subplots_adjust(right=0.8)\n",
    "cbar_ax = fig.add_axes([0.85, 0.15, 0.05, 0.7])\n",
    "_=fig.colorbar(p,cax=cbar_ax)\n",
    "\n"
   ]
  },
  {
   "cell_type": "markdown",
   "metadata": {},
   "source": [
    "## Bootstrapping over the masked change point candidates\n",
    "We can now perform the bootstrapping analysis over the not masked out values. For efficient computing we permutate the index of the time axis."
   ]
  },
  {
   "cell_type": "code",
   "execution_count": null,
   "metadata": {},
   "outputs": [],
   "source": [
    "random_index=np.random.permutation(Rmasked.shape[0])\n",
    "Rrandom=Rmasked[random_index,:,:]\n",
    "\n",
    "fig,ax=plt.subplots(1,2,figsize=(8,4))\n",
    "ax[0].imshow(Rmasked[0])\n",
    "ax[0].set_title('Band 0')\n",
    "ax[1].imshow(Rrandom[0])\n",
    "_=ax[1].set_title('Band 0 Randomized')\n"
   ]
  },
  {
   "cell_type": "code",
   "execution_count": null,
   "metadata": {},
   "outputs": [],
   "source": [
    "Smasked_max=np.ma.max(Smasked,axis=0)"
   ]
  },
  {
   "cell_type": "markdown",
   "metadata": {},
   "source": [
    "Below is the numpy based implementation of the bootstrapping over all pixels. Note the efficient implementation using nympy masked arrays."
   ]
  },
  {
   "cell_type": "code",
   "execution_count": null,
   "metadata": {},
   "outputs": [],
   "source": [
    "n_bootstraps=1000  # bootstrap sample size\n",
    "\n",
    "# to keep track of the maxium Sdiff of the bootstrapped sample:\n",
    "Sdiff_random_max = np.ma.copy(Smasked_diff) \n",
    "Sdiff_random_max[~Sdiff_random_max.mask]=0\n",
    "# to compute the Sdiff sums of the bootstrapped sample:\n",
    "Sdiff_random_sum = np.ma.copy(Smasked_diff) \n",
    "Sdiff_random_sum[~Sdiff_random_max.mask]=0\n",
    "# to keep track of the count of the bootstrapped sample\n",
    "n_Sdiff_gt_Sdiff_random = np.ma.copy(Smasked_diff) \n",
    "n_Sdiff_gt_Sdiff_random[~n_Sdiff_gt_Sdiff_random.mask]=0\n",
    "for i in range(n_bootstraps):\n",
    "    # For efficiency, we shuffle the time axis index and use that \n",
    "    #to randomize the masked array\n",
    "    random_index=np.random.permutation(Rmasked.shape[0])\n",
    "    # Randomize the time step of the residuals\n",
    "    Rrandom = Rmasked[random_index,:,:]  \n",
    "    Srandom = np.ma.cumsum(Rrandom,axis=0)\n",
    "    Srandom_max=np.ma.max(Srandom,axis=0)\n",
    "    Srandom_min=np.ma.min(Srandom,axis=0)\n",
    "    Sdiff_random=Srandom_max-Srandom_min\n",
    "    Sdiff_random_sum += Sdiff_random\n",
    "    Sdiff_random_max[np.ma.greater(Sdiff_random,Sdiff_random_max)]=\\\n",
    "    Sdiff_random[np.ma.greater(Sdiff_random,Sdiff_random_max)]\n",
    "    n_Sdiff_gt_Sdiff_random[np.ma.greater(Smasked_diff,Sdiff_random)] += 1"
   ]
  },
  {
   "cell_type": "markdown",
   "metadata": {},
   "source": [
    "Now we can compute for all pixels the confidence level $CL$, the change point significance metric $CP_{significance} and the product of the two as our confidence metric for identified changepoints."
   ]
  },
  {
   "cell_type": "code",
   "execution_count": null,
   "metadata": {},
   "outputs": [],
   "source": [
    "CL = n_Sdiff_gt_Sdiff_random/n_bootstraps\n",
    "CP_significance = 1.- (Sdiff_random_sum/n_bootstraps)/Sdiff \n",
    "#Plot\n",
    "fig,ax=plt.subplots(1,3,figsize=(16,4))\n",
    "a = ax[0].imshow(CL*100)\n",
    "fig.colorbar(a,ax=ax[0])\n",
    "ax[0].set_title('Confidence Level %')\n",
    "a = ax[1].imshow(CP_significance)\n",
    "fig.colorbar(a,ax=ax[1])\n",
    "ax[1].set_title('Significance')\n",
    "a = ax[2].imshow(CL*CP_significance)\n",
    "fig.colorbar(a,ax=ax[2])\n",
    "_=ax[2].set_title('CL x S')"
   ]
  },
  {
   "cell_type": "markdown",
   "metadata": {},
   "source": [
    "Now if we were to set a threshold of 0.5 for the product as identified change our change map would look like the following figure:\n"
   ]
  },
  {
   "cell_type": "code",
   "execution_count": null,
   "metadata": {},
   "outputs": [],
   "source": [
    "cp_thres=0.5"
   ]
  },
  {
   "cell_type": "code",
   "execution_count": null,
   "metadata": {
    "scrolled": true
   },
   "outputs": [],
   "source": [
    "plt.imshow(CL*CP_significance <  cp_thres,cmap='cool')"
   ]
  },
  {
   "cell_type": "markdown",
   "metadata": {},
   "source": [
    "Our last step is the idenficiaton of the change points is to extract the timing of the change. We will produce a raster layer that shows the band number of this first date after detected change. We will make use of the numpy indexing scheme. First, we create a combined mask of the first threshold and the identified change points after the bootstrapping. For this we use the numpy \"mask_or\" operation.\n"
   ]
  },
  {
   "cell_type": "code",
   "execution_count": null,
   "metadata": {},
   "outputs": [],
   "source": [
    "# make a mask of our change points from the new threhold and the previous \n",
    "# mask\n",
    "cp_mask=np.ma.mask_or(CL*CP_significance<cp_thres,CL.mask)\n",
    "# Broadcast the mask to the shape of the masked S curves\n",
    "cp_mask2 = np.broadcast_to(cp_mask,Smasked.shape)\n",
    "# Make a numpy masked array with this mask\n",
    "CPraster = np.ma.array(Smasked.data,mask=cp_mask2)"
   ]
  },
  {
   "cell_type": "markdown",
   "metadata": {},
   "source": [
    "To retrieve the dates of the change points we find the band indices in the time series along the time axis where the the maximum of the cumulative sums was located. Numpy offers the \"argmax\" function for this purpose."
   ]
  },
  {
   "cell_type": "code",
   "execution_count": null,
   "metadata": {},
   "outputs": [],
   "source": [
    "CP_index= np.ma.argmax(CPraster,axis=0)\n",
    "change_indices = list(np.unique(CP_index))\n",
    "change_indices.remove(0)\n",
    "print(change_indices)\n",
    "# Look up the dates from the indices to get the change dates\n",
    "alldates=tindex[tindex>'2015-10-31']\n",
    "change_dates=[str(alldates[x+1].date()) for x in change_indices]\n",
    "print(change_dates)"
   ]
  },
  {
   "cell_type": "markdown",
   "metadata": {},
   "source": [
    "Lastly, we visualize the change dates by showing the CP_index raster and label the change dates."
   ]
  },
  {
   "cell_type": "code",
   "execution_count": null,
   "metadata": {
    "scrolled": false
   },
   "outputs": [],
   "source": [
    "ticks=change_indices\n",
    "ticklabels=change_dates\n",
    "\n",
    "cmap=plt.cm.get_cmap('magma',ticks[-1])\n",
    "fig, ax = plt.subplots(figsize=(8,8))\n",
    "cax = ax.imshow(CP_index,interpolation='nearest',cmap=cmap)\n",
    "# fig.subplots_adjust(right=0.8)\n",
    "# cbar_ax = fig.add_axes([0.85, 0.15, 0.05, 0.7])\n",
    "# fig.colorbar(p,cax=cbar_ax)\n",
    "\n",
    "ax.set_title('Dates of Change')\n",
    "# cbar = fig.colorbar(cax,ticks=ticks)\n",
    "cbar=fig.colorbar(cax,ticks=ticks,orientation='horizontal')\n",
    "_=cbar.ax.set_xticklabels(ticklabels,size=10,rotation=45,ha='right')  "
   ]
  },
  {
   "cell_type": "markdown",
   "metadata": {},
   "source": [
    "## Secondary Change Points\n",
    "After detection of a change point in the time series we can split the series in before and after change subsets. For forest degradation or deforestation detection for example this could apply when over the course of a multi-year time series selective logging preceeds a clearing event or converion of a logged plot to agriculture or regrowth, which show typically different time series profiles of radar backscatter. The approach to detect secondary change points would be to repeat analysis of the time series split into before and after change point detection. \n",
    "\n",
    "# Conclusion\n",
    "\n",
    "Pandas and numpy are powerful open source scripting tools to implement change point detection on large data stacks. For image based analysis numpy offers more efficient implementations compared to pandas, whereas pandas is more powerful in date time processing, e.g. time-weighted interpolation. "
   ]
  }
 ],
 "metadata": {
  "celltoolbar": "Raw Cell Format",
  "kernelspec": {
   "display_name": "Python [conda env:servir]",
   "language": "python",
   "name": "conda-env-servir-py"
  },
  "language_info": {
   "codemirror_mode": {
    "name": "ipython",
    "version": 3
   },
   "file_extension": ".py",
   "mimetype": "text/x-python",
   "name": "python",
   "nbconvert_exporter": "python",
   "pygments_lexer": "ipython3",
   "version": "3.6.4"
  },
  "nbpresent": {
   "slides": {
    "0cda1ca3-b50b-4798-9344-fd4b3e8f7be7": {
     "id": "0cda1ca3-b50b-4798-9344-fd4b3e8f7be7",
     "prev": "e9645e97-076d-49a2-ac50-60df72e22059",
     "regions": {
      "ca5fd739-80ad-4f3d-aa76-3f559a12bc9c": {
       "attrs": {
        "height": 0.8,
        "width": 0.8,
        "x": 0.1,
        "y": 0.1
       },
       "content": {
        "cell": "d6262ab2-5b2a-404b-91a5-03a303e4a7cf",
        "part": "whole"
       },
       "id": "ca5fd739-80ad-4f3d-aa76-3f559a12bc9c"
      }
     }
    },
    "0d5f4ac8-6c89-41d4-a4a7-d928bb5377c9": {
     "id": "0d5f4ac8-6c89-41d4-a4a7-d928bb5377c9",
     "prev": "eef0d87f-4f03-45b9-ba0f-cde00f646fb5",
     "regions": {
      "b7a43559-312a-45b0-b405-2d6108aa6e2d": {
       "attrs": {
        "height": 0.8,
        "width": 0.8,
        "x": 0.1,
        "y": 0.1
       },
       "content": {
        "cell": "ba13bef6-7ca2-4f59-bede-1576666c4aec",
        "part": "whole"
       },
       "id": "b7a43559-312a-45b0-b405-2d6108aa6e2d"
      }
     }
    },
    "0fb1f28f-c4a0-4263-a652-ae7fa9329642": {
     "id": "0fb1f28f-c4a0-4263-a652-ae7fa9329642",
     "prev": "3c5163d1-df94-455b-94ef-4b921e60e0cb",
     "regions": {
      "44b6529b-4209-4f83-826b-6167a06ba63f": {
       "attrs": {
        "height": 0.8,
        "width": 0.8,
        "x": 0.1,
        "y": 0.1
       },
       "content": {
        "cell": "3830bd10-b149-45ac-a5cf-9d2c6eb88b3d",
        "part": "whole"
       },
       "id": "44b6529b-4209-4f83-826b-6167a06ba63f"
      }
     }
    },
    "0fbe33f4-655a-4ea5-904c-0ca3dba95703": {
     "id": "0fbe33f4-655a-4ea5-904c-0ca3dba95703",
     "prev": "2324cf38-01dc-437d-bf8f-e2d432412648",
     "regions": {
      "d177ca5d-d324-42d3-aa86-3df5ebc667a8": {
       "attrs": {
        "height": 0.8,
        "width": 0.8,
        "x": 0.1,
        "y": 0.1
       },
       "content": {
        "cell": "39336db1-d60f-40d6-9611-43b87d7c4448",
        "part": "whole"
       },
       "id": "d177ca5d-d324-42d3-aa86-3df5ebc667a8"
      }
     }
    },
    "0fc490ba-4de8-4b2c-a803-904009f634f2": {
     "id": "0fc490ba-4de8-4b2c-a803-904009f634f2",
     "prev": "43bea5d1-2b63-49cf-97dd-4fbb991696e9",
     "regions": {
      "6cae3635-7987-4e3d-a04c-e12bc8d80587": {
       "attrs": {
        "height": 0.8,
        "width": 0.8,
        "x": 0.1,
        "y": 0.1
       },
       "content": {
        "cell": "514b065d-9316-411c-9627-3de64a8443d3",
        "part": "whole"
       },
       "id": "6cae3635-7987-4e3d-a04c-e12bc8d80587"
      }
     }
    },
    "14bd973f-6471-4e23-9da2-249109ff5366": {
     "id": "14bd973f-6471-4e23-9da2-249109ff5366",
     "prev": "50f9ba56-9463-4ab9-9dc5-ce812698cea7",
     "regions": {
      "aafbf90c-b4db-4bab-a1bf-2d0812c14587": {
       "attrs": {
        "height": 0.8,
        "width": 0.8,
        "x": 0.1,
        "y": 0.1
       },
       "content": {
        "cell": "0d27145e-9f49-468e-912f-12549f6305bd",
        "part": "whole"
       },
       "id": "aafbf90c-b4db-4bab-a1bf-2d0812c14587"
      }
     }
    },
    "1739ad60-442f-40f8-abe3-89b2763deede": {
     "id": "1739ad60-442f-40f8-abe3-89b2763deede",
     "prev": "d05d8dd7-470e-4e23-bab7-ebc51ebbf189",
     "regions": {
      "0ffd91c9-f03d-451f-8102-91177db7721c": {
       "attrs": {
        "height": 0.8,
        "width": 0.8,
        "x": 0.1,
        "y": 0.1
       },
       "content": {
        "cell": "7881f388-f9d7-4e0b-a114-6180b63bd3c8",
        "part": "whole"
       },
       "id": "0ffd91c9-f03d-451f-8102-91177db7721c"
      }
     }
    },
    "1c86f480-a955-4d4b-86da-9b7807bd9fbf": {
     "id": "1c86f480-a955-4d4b-86da-9b7807bd9fbf",
     "prev": "ab673a77-f1bc-4e64-aef5-2853ad9c4064",
     "regions": {
      "2bbfc521-62e8-4597-8c60-44c368535c7b": {
       "attrs": {
        "height": 0.8,
        "width": 0.8,
        "x": 0.1,
        "y": 0.1
       },
       "content": {
        "cell": "ba6b12c6-8625-43d6-ab66-85275130b86d",
        "part": "whole"
       },
       "id": "2bbfc521-62e8-4597-8c60-44c368535c7b"
      }
     }
    },
    "1eaad0bb-ae95-4754-a9aa-ae49d1650b94": {
     "id": "1eaad0bb-ae95-4754-a9aa-ae49d1650b94",
     "prev": "9925f3b0-6318-4c39-a5a2-b12f16ec8c0e",
     "regions": {
      "7a55be48-76de-4721-a0a8-7093df0f69c4": {
       "attrs": {
        "height": 0.8,
        "width": 0.8,
        "x": 0.1,
        "y": 0.1
       },
       "content": {
        "cell": "8474dfdd-e8f0-4bf9-9b6b-c5e2a4705205",
        "part": "whole"
       },
       "id": "7a55be48-76de-4721-a0a8-7093df0f69c4"
      }
     }
    },
    "1f428a4b-e6bf-44f4-82a8-000df44d6bba": {
     "id": "1f428a4b-e6bf-44f4-82a8-000df44d6bba",
     "prev": "aec177c7-97b5-4a99-a26d-c05abe673669",
     "regions": {
      "63eaf767-638e-4298-a509-4a5241a62a5b": {
       "attrs": {
        "height": 0.8,
        "width": 0.8,
        "x": 0.1,
        "y": 0.1
       },
       "content": {
        "cell": "5df48b8c-682d-4b26-9a9a-7ad29390776a",
        "part": "whole"
       },
       "id": "63eaf767-638e-4298-a509-4a5241a62a5b"
      }
     }
    },
    "2324cf38-01dc-437d-bf8f-e2d432412648": {
     "id": "2324cf38-01dc-437d-bf8f-e2d432412648",
     "prev": "eebd33cb-9a34-4744-9296-591db296e8b2",
     "regions": {
      "63594b82-45aa-40da-ad89-5e7384852d6b": {
       "attrs": {
        "height": 0.8,
        "width": 0.8,
        "x": 0.1,
        "y": 0.1
       },
       "content": {
        "cell": "a9217cf4-e4b0-40e5-8f1c-a9808f4c6b06",
        "part": "whole"
       },
       "id": "63594b82-45aa-40da-ad89-5e7384852d6b"
      }
     }
    },
    "23d5c33a-c24c-4b29-8ac6-2caba92a1281": {
     "id": "23d5c33a-c24c-4b29-8ac6-2caba92a1281",
     "prev": "84ff8974-da4a-420a-94c7-8623bd15e41e",
     "regions": {
      "349c8ce3-68f0-48c6-b3a3-6835369b65a9": {
       "attrs": {
        "height": 0.8,
        "width": 0.8,
        "x": 0.1,
        "y": 0.1
       },
       "content": {
        "cell": "56933d23-6daa-4ee6-8945-fe1ba317cc7e",
        "part": "whole"
       },
       "id": "349c8ce3-68f0-48c6-b3a3-6835369b65a9"
      }
     }
    },
    "2497cbf5-7d66-4c44-ac3d-2f3f81b22e0e": {
     "id": "2497cbf5-7d66-4c44-ac3d-2f3f81b22e0e",
     "prev": "254ceda7-ae3b-4e0f-960e-4f986d6b2691",
     "regions": {
      "d714ee1d-5dd4-458b-b1c3-f6a5e24ddba0": {
       "attrs": {
        "height": 0.8,
        "width": 0.8,
        "x": 0.1,
        "y": 0.1
       },
       "content": {
        "cell": "f30898ee-b1ac-4b4e-a009-ffaa67e60060",
        "part": "whole"
       },
       "id": "d714ee1d-5dd4-458b-b1c3-f6a5e24ddba0"
      }
     }
    },
    "254ceda7-ae3b-4e0f-960e-4f986d6b2691": {
     "id": "254ceda7-ae3b-4e0f-960e-4f986d6b2691",
     "prev": "b518241b-c800-4c64-935d-5ba9eff67002",
     "regions": {
      "9d32a0f6-2f4f-4a91-8dba-9acb7f9260fe": {
       "attrs": {
        "height": 0.8,
        "width": 0.8,
        "x": 0.1,
        "y": 0.1
       },
       "content": {
        "cell": "26c050b7-475c-49a7-b0d4-1f040758cfe7",
        "part": "whole"
       },
       "id": "9d32a0f6-2f4f-4a91-8dba-9acb7f9260fe"
      }
     }
    },
    "256008c6-6298-4d0c-a5c9-f13c399153e3": {
     "id": "256008c6-6298-4d0c-a5c9-f13c399153e3",
     "prev": "a9c7a59c-07a5-4c53-9a59-4b5ecfb837ae",
     "regions": {
      "9cf17696-aaf8-4913-a387-c5575c95ab48": {
       "attrs": {
        "height": 0.8,
        "width": 0.8,
        "x": 0.1,
        "y": 0.1
       },
       "content": {
        "cell": "2c69baad-3ad2-49fc-8102-3f38868aee38",
        "part": "whole"
       },
       "id": "9cf17696-aaf8-4913-a387-c5575c95ab48"
      }
     }
    },
    "28a8a521-2777-47fd-b376-455aa39a0c00": {
     "id": "28a8a521-2777-47fd-b376-455aa39a0c00",
     "prev": "5df9736d-e121-4891-a5c2-27b548effc6c",
     "regions": {
      "0acb3203-9c01-4c8e-91eb-33d0fab3518a": {
       "attrs": {
        "height": 0.8,
        "width": 0.8,
        "x": 0.1,
        "y": 0.1
       },
       "content": {
        "cell": "af65de8e-31b2-48c4-8784-0cb1bd73a2cb",
        "part": "whole"
       },
       "id": "0acb3203-9c01-4c8e-91eb-33d0fab3518a"
      }
     }
    },
    "2a6b2c7a-5dd8-45b7-a469-b1ba766d6763": {
     "id": "2a6b2c7a-5dd8-45b7-a469-b1ba766d6763",
     "prev": "aa88a4cd-8f21-4eaa-b361-c908ad632906",
     "regions": {
      "261298cb-895e-4047-b203-03dc9f084a5b": {
       "attrs": {
        "height": 0.8,
        "width": 0.8,
        "x": 0.1,
        "y": 0.1
       },
       "content": {
        "cell": "2cd28d33-81e1-4adf-bf3d-69b4b426d5c0",
        "part": "whole"
       },
       "id": "261298cb-895e-4047-b203-03dc9f084a5b"
      }
     }
    },
    "30d19d04-6869-44a2-933c-9fe7d8fb47e5": {
     "id": "30d19d04-6869-44a2-933c-9fe7d8fb47e5",
     "prev": "d3abd4fd-5595-426f-a2fe-dc2235b702b0",
     "regions": {
      "bf343acc-0afd-48c6-ae24-4afda37e6276": {
       "attrs": {
        "height": 0.8,
        "width": 0.8,
        "x": 0.1,
        "y": 0.1
       },
       "content": {
        "cell": "6334c581-7b71-455f-9559-850ad0db3a24",
        "part": "whole"
       },
       "id": "bf343acc-0afd-48c6-ae24-4afda37e6276"
      }
     }
    },
    "35a7448d-9e3d-4a37-941a-9d1679acef2d": {
     "id": "35a7448d-9e3d-4a37-941a-9d1679acef2d",
     "prev": "831ea5db-96f7-4596-a3f8-b581e2a927ed",
     "regions": {
      "42510c81-d23b-44a8-bc36-38978fcd22d2": {
       "attrs": {
        "height": 0.8,
        "width": 0.8,
        "x": 0.1,
        "y": 0.1
       },
       "content": {
        "cell": "a0df5418-4d19-4c2a-983b-519c975b16da",
        "part": "whole"
       },
       "id": "42510c81-d23b-44a8-bc36-38978fcd22d2"
      }
     }
    },
    "37b83c17-5c41-42f2-8014-08c0758f00d9": {
     "id": "37b83c17-5c41-42f2-8014-08c0758f00d9",
     "prev": "4fbf44b5-fea6-4c14-a6a6-e35c599bb7e1",
     "regions": {
      "03e1ed2f-dcab-4461-ba48-400a5d4275e0": {
       "attrs": {
        "height": 0.8,
        "width": 0.8,
        "x": 0.1,
        "y": 0.1
       },
       "content": {
        "cell": "aab69cbe-ed08-454f-8325-2b2189e8e4b4",
        "part": "whole"
       },
       "id": "03e1ed2f-dcab-4461-ba48-400a5d4275e0"
      }
     }
    },
    "38a629d5-1e3a-4e8a-9a28-c6f4a948e9b1": {
     "id": "38a629d5-1e3a-4e8a-9a28-c6f4a948e9b1",
     "prev": "7d690d4e-3b1d-4603-a03f-862e1c4fda64",
     "regions": {
      "59506335-0cf6-4c91-a168-088e4ed3b5a8": {
       "attrs": {
        "height": 0.8,
        "width": 0.8,
        "x": 0.1,
        "y": 0.1
       },
       "content": {
        "cell": "900b45f9-53dc-4c52-ac9a-70e16734c91b",
        "part": "whole"
       },
       "id": "59506335-0cf6-4c91-a168-088e4ed3b5a8"
      }
     }
    },
    "3c5163d1-df94-455b-94ef-4b921e60e0cb": {
     "id": "3c5163d1-df94-455b-94ef-4b921e60e0cb",
     "prev": "79ad71a2-345a-4b0d-92ff-07f1ca4f3778",
     "regions": {
      "edac22c3-ebc2-4fb8-9c4a-901f2f41de00": {
       "attrs": {
        "height": 0.8,
        "width": 0.8,
        "x": 0.1,
        "y": 0.1
       },
       "content": {
        "cell": "84758eb1-df39-486a-8c7d-d736e59974ed",
        "part": "whole"
       },
       "id": "edac22c3-ebc2-4fb8-9c4a-901f2f41de00"
      }
     }
    },
    "3c5a1408-d679-4cf1-a5a1-b0353ac7d1e5": {
     "id": "3c5a1408-d679-4cf1-a5a1-b0353ac7d1e5",
     "prev": "0fbe33f4-655a-4ea5-904c-0ca3dba95703",
     "regions": {
      "f27f8492-fdae-4cc4-88b1-0bcafe3d9eef": {
       "attrs": {
        "height": 0.8,
        "width": 0.8,
        "x": 0.1,
        "y": 0.1
       },
       "content": {
        "cell": "2bb67d4c-9ad2-4c8c-86a4-6155e91622b4",
        "part": "whole"
       },
       "id": "f27f8492-fdae-4cc4-88b1-0bcafe3d9eef"
      }
     }
    },
    "3e486bfe-b426-492f-90d6-238ee0427ed5": {
     "id": "3e486bfe-b426-492f-90d6-238ee0427ed5",
     "prev": "8425370d-15a1-4f25-b9da-e84ad1287d1e",
     "regions": {
      "4c001540-f9dd-43fb-9ba8-8733ce03a34a": {
       "attrs": {
        "height": 0.8,
        "width": 0.8,
        "x": 0.1,
        "y": 0.1
       },
       "content": {
        "cell": "6b6ca69a-49bf-4a5f-bc50-ea743dadd636",
        "part": "whole"
       },
       "id": "4c001540-f9dd-43fb-9ba8-8733ce03a34a"
      }
     }
    },
    "4319f966-748c-4bdb-87db-82fccd9fbab8": {
     "id": "4319f966-748c-4bdb-87db-82fccd9fbab8",
     "prev": "59d08889-6ffc-4fd1-83b3-4552f9e2d4ff",
     "regions": {
      "b8c9af7a-7772-4505-815f-31a9f53f99fe": {
       "attrs": {
        "height": 0.8,
        "width": 0.8,
        "x": 0.1,
        "y": 0.1
       },
       "content": {
        "cell": "8a0f03f2-81bd-4b01-95db-aed3cdb16eeb",
        "part": "whole"
       },
       "id": "b8c9af7a-7772-4505-815f-31a9f53f99fe"
      }
     }
    },
    "43bea5d1-2b63-49cf-97dd-4fbb991696e9": {
     "id": "43bea5d1-2b63-49cf-97dd-4fbb991696e9",
     "prev": "c003f7be-b32e-4ee0-a144-e55feca49497",
     "regions": {
      "4c99377a-df0c-4984-9c03-c0d6a5b911aa": {
       "attrs": {
        "height": 0.8,
        "width": 0.8,
        "x": 0.1,
        "y": 0.1
       },
       "content": {
        "cell": "45df5e34-131f-46b5-8943-576b4d546e33",
        "part": "whole"
       },
       "id": "4c99377a-df0c-4984-9c03-c0d6a5b911aa"
      }
     }
    },
    "495742f6-5219-4bcc-bd71-a36aced67599": {
     "id": "495742f6-5219-4bcc-bd71-a36aced67599",
     "prev": "be5f20c8-8ae9-4334-a299-3b31edc0a194",
     "regions": {
      "83868cfa-7ea3-4335-bc89-5e2bf4713666": {
       "attrs": {
        "height": 0.8,
        "width": 0.8,
        "x": 0.1,
        "y": 0.1
       },
       "content": {
        "cell": "6a84b809-79f0-4d7c-8408-7fdedd9a57c3",
        "part": "whole"
       },
       "id": "83868cfa-7ea3-4335-bc89-5e2bf4713666"
      }
     }
    },
    "4a821faa-cb0f-4ba3-8813-d0b3a6ae6701": {
     "id": "4a821faa-cb0f-4ba3-8813-d0b3a6ae6701",
     "prev": "4ea3a285-a5e8-49c6-9e73-63683d0f395a",
     "regions": {
      "feacd8ef-bb79-42d3-942c-2eb1a44e7380": {
       "attrs": {
        "height": 0.8,
        "width": 0.8,
        "x": 0.1,
        "y": 0.1
       },
       "content": {
        "cell": "8d495997-2918-4571-8e76-fcdc5b4d8392",
        "part": "whole"
       },
       "id": "feacd8ef-bb79-42d3-942c-2eb1a44e7380"
      }
     }
    },
    "4e10843a-0907-412d-8b00-24303035bb55": {
     "id": "4e10843a-0907-412d-8b00-24303035bb55",
     "prev": "3c5a1408-d679-4cf1-a5a1-b0353ac7d1e5",
     "regions": {
      "6b82c89a-23b9-4099-8f46-49035b66c358": {
       "attrs": {
        "height": 0.8,
        "width": 0.8,
        "x": 0.1,
        "y": 0.1
       },
       "content": {
        "cell": "dffe6bdf-acbc-4675-bd0d-b9249e793647",
        "part": "whole"
       },
       "id": "6b82c89a-23b9-4099-8f46-49035b66c358"
      }
     }
    },
    "4e878ddf-5e37-476f-b34e-fb4581422e5e": {
     "id": "4e878ddf-5e37-476f-b34e-fb4581422e5e",
     "prev": "5af1bb7d-1618-4231-b9a8-0ed94c28a4ec",
     "regions": {
      "012c0a02-49d9-46ec-885a-fb9644d82158": {
       "attrs": {
        "height": 0.8,
        "width": 0.8,
        "x": 0.1,
        "y": 0.1
       },
       "content": {
        "cell": "a0859f48-3b29-42ac-9002-583780939373",
        "part": "whole"
       },
       "id": "012c0a02-49d9-46ec-885a-fb9644d82158"
      }
     }
    },
    "4ea3a285-a5e8-49c6-9e73-63683d0f395a": {
     "id": "4ea3a285-a5e8-49c6-9e73-63683d0f395a",
     "prev": "ebd3a3d1-f8d1-4480-8b59-b2145a9993b2",
     "regions": {
      "8c4347cc-5483-4674-b279-70167997b32f": {
       "attrs": {
        "height": 0.8,
        "width": 0.8,
        "x": 0.1,
        "y": 0.1
       },
       "content": {
        "cell": "5a182a07-4c45-4510-80f7-2cfd423dbbce",
        "part": "whole"
       },
       "id": "8c4347cc-5483-4674-b279-70167997b32f"
      }
     }
    },
    "4f86b6de-3ae1-4cc9-bfb5-675edce26342": {
     "id": "4f86b6de-3ae1-4cc9-bfb5-675edce26342",
     "prev": "919bd687-87ac-4db6-83a2-8345ecc62bbf",
     "regions": {
      "27d87bcb-a877-459c-b0a5-1e116916540d": {
       "attrs": {
        "height": 0.8,
        "width": 0.8,
        "x": 0.1,
        "y": 0.1
       },
       "content": {
        "cell": "0a12e3d7-99a8-4bf8-94ba-443710259001",
        "part": "whole"
       },
       "id": "27d87bcb-a877-459c-b0a5-1e116916540d"
      }
     }
    },
    "4fbf44b5-fea6-4c14-a6a6-e35c599bb7e1": {
     "id": "4fbf44b5-fea6-4c14-a6a6-e35c599bb7e1",
     "prev": "2a6b2c7a-5dd8-45b7-a469-b1ba766d6763",
     "regions": {
      "e2d59597-40a5-4b3c-9c65-617d538cabe7": {
       "attrs": {
        "height": 0.8,
        "width": 0.8,
        "x": 0.1,
        "y": 0.1
       },
       "content": {
        "cell": "4c9c1fb8-5d77-4302-9c2a-dd5e329a8eda",
        "part": "whole"
       },
       "id": "e2d59597-40a5-4b3c-9c65-617d538cabe7"
      }
     }
    },
    "50f9ba56-9463-4ab9-9dc5-ce812698cea7": {
     "id": "50f9ba56-9463-4ab9-9dc5-ce812698cea7",
     "prev": "3e486bfe-b426-492f-90d6-238ee0427ed5",
     "regions": {
      "5c17dfe4-6ce9-428d-898b-121f04042769": {
       "attrs": {
        "height": 0.8,
        "width": 0.8,
        "x": 0.1,
        "y": 0.1
       },
       "content": {
        "cell": "e9214d47-7e39-4509-873e-f209db97deab",
        "part": "whole"
       },
       "id": "5c17dfe4-6ce9-428d-898b-121f04042769"
      }
     }
    },
    "513fac53-c8eb-4933-bd7c-b7185f15cb7e": {
     "id": "513fac53-c8eb-4933-bd7c-b7185f15cb7e",
     "prev": "f1e61699-d8cb-42b1-a5b6-b3f50e59efa3",
     "regions": {
      "48a6f3cc-58a1-45c9-93fd-7a854dfff803": {
       "attrs": {
        "height": 0.8,
        "width": 0.8,
        "x": 0.1,
        "y": 0.1
       },
       "content": {
        "cell": "13b7f3d8-ce86-4033-be6d-61fe94849da9",
        "part": "whole"
       },
       "id": "48a6f3cc-58a1-45c9-93fd-7a854dfff803"
      }
     }
    },
    "59d08889-6ffc-4fd1-83b3-4552f9e2d4ff": {
     "id": "59d08889-6ffc-4fd1-83b3-4552f9e2d4ff",
     "prev": "c829ee87-181d-4d2e-a0e8-99af875ee94d",
     "regions": {
      "9b8fa9b7-2cfe-45a0-8341-0a0d5074b39d": {
       "attrs": {
        "height": 0.8,
        "width": 0.8,
        "x": 0.1,
        "y": 0.1
       },
       "content": {
        "cell": "4fb156c6-f9a4-4f28-98b1-f09c4385092a",
        "part": "whole"
       },
       "id": "9b8fa9b7-2cfe-45a0-8341-0a0d5074b39d"
      }
     }
    },
    "5af1bb7d-1618-4231-b9a8-0ed94c28a4ec": {
     "id": "5af1bb7d-1618-4231-b9a8-0ed94c28a4ec",
     "prev": "76491ec3-f70d-4fe0-8aee-b44e5436ea6c",
     "regions": {
      "620ecada-1550-4007-bcfa-fa8113e69e57": {
       "attrs": {
        "height": 0.8,
        "width": 0.8,
        "x": 0.1,
        "y": 0.1
       },
       "content": {
        "cell": "463e9f6b-b3df-49fa-942f-7f3e095293af",
        "part": "whole"
       },
       "id": "620ecada-1550-4007-bcfa-fa8113e69e57"
      }
     }
    },
    "5db8903f-903c-457d-be24-131ae6e87d14": {
     "id": "5db8903f-903c-457d-be24-131ae6e87d14",
     "prev": "37b83c17-5c41-42f2-8014-08c0758f00d9",
     "regions": {
      "35d88b22-ae3e-418f-9216-f039e1808743": {
       "attrs": {
        "height": 0.8,
        "width": 0.8,
        "x": 0.1,
        "y": 0.1
       },
       "content": {
        "cell": "180955c1-a545-45df-b062-7f9f4d9ce2d0",
        "part": "whole"
       },
       "id": "35d88b22-ae3e-418f-9216-f039e1808743"
      }
     }
    },
    "5df9736d-e121-4891-a5c2-27b548effc6c": {
     "id": "5df9736d-e121-4891-a5c2-27b548effc6c",
     "prev": "edc897d5-8c1f-4304-b9bc-06c0eabe3de3",
     "regions": {
      "311bd714-b29b-434b-b798-9a8dd3ea1213": {
       "attrs": {
        "height": 0.8,
        "width": 0.8,
        "x": 0.1,
        "y": 0.1
       },
       "content": {
        "cell": "7713330f-a461-462e-90cb-1df7cbc921cd",
        "part": "whole"
       },
       "id": "311bd714-b29b-434b-b798-9a8dd3ea1213"
      }
     }
    },
    "5ed15d37-bcef-461a-8161-f814d2a57a19": {
     "id": "5ed15d37-bcef-461a-8161-f814d2a57a19",
     "prev": "4e878ddf-5e37-476f-b34e-fb4581422e5e",
     "regions": {
      "1a77aa03-2145-4bf3-876a-1e0f2bba1ad8": {
       "attrs": {
        "height": 0.8,
        "width": 0.8,
        "x": 0.1,
        "y": 0.1
       },
       "content": {
        "cell": "3eb84313-7808-45b7-8025-79d61321f4f8",
        "part": "whole"
       },
       "id": "1a77aa03-2145-4bf3-876a-1e0f2bba1ad8"
      }
     }
    },
    "5fd327a5-a050-40b3-beb3-0eeeb86f2e78": {
     "id": "5fd327a5-a050-40b3-beb3-0eeeb86f2e78",
     "prev": "a814cbfc-f5b5-45bc-8a5e-515356f56deb",
     "regions": {
      "eaa164fa-7f2c-4ae3-a45c-1e2dc27b2862": {
       "attrs": {
        "height": 0.8,
        "width": 0.8,
        "x": 0.1,
        "y": 0.1
       },
       "content": {
        "cell": "99e75636-2f2e-405c-9009-8eb0a28fdbe1",
        "part": "whole"
       },
       "id": "eaa164fa-7f2c-4ae3-a45c-1e2dc27b2862"
      }
     }
    },
    "601ad13d-653c-469a-a8b0-5fb8b3260cab": {
     "id": "601ad13d-653c-469a-a8b0-5fb8b3260cab",
     "prev": "1eaad0bb-ae95-4754-a9aa-ae49d1650b94",
     "regions": {
      "8bb5dcb2-cdc5-4fa7-9199-d00bc89379e4": {
       "attrs": {
        "height": 0.8,
        "width": 0.8,
        "x": 0.1,
        "y": 0.1
       },
       "content": {
        "cell": "940ba81e-5d71-495b-9a34-ead799345780",
        "part": "whole"
       },
       "id": "8bb5dcb2-cdc5-4fa7-9199-d00bc89379e4"
      }
     }
    },
    "61f96558-fb5b-495e-b6b6-55cc155ea4b1": {
     "id": "61f96558-fb5b-495e-b6b6-55cc155ea4b1",
     "prev": "9ed67dae-ffe5-43f5-b712-5d773518121e",
     "regions": {
      "ebf68d2d-fb45-4edb-80f0-5e98c6fb111a": {
       "attrs": {
        "height": 0.8,
        "width": 0.8,
        "x": 0.1,
        "y": 0.1
       },
       "content": {
        "cell": "d6496782-1571-4e57-b7d8-3117b393f4ce",
        "part": "whole"
       },
       "id": "ebf68d2d-fb45-4edb-80f0-5e98c6fb111a"
      }
     }
    },
    "67f0cb37-8327-496f-8a87-5513ac0669c3": {
     "id": "67f0cb37-8327-496f-8a87-5513ac0669c3",
     "prev": "74eef39d-9fee-45e7-8689-cd82e99e9e8d",
     "regions": {
      "496cb9ff-05ec-4864-ba06-26a5873fb1c6": {
       "attrs": {
        "height": 0.8,
        "width": 0.8,
        "x": 0.1,
        "y": 0.1
       },
       "content": {
        "cell": "6f75f10b-f57b-49fb-adfc-4d661a0603ea",
        "part": "whole"
       },
       "id": "496cb9ff-05ec-4864-ba06-26a5873fb1c6"
      }
     }
    },
    "6badb8b9-0dd6-4b8e-bc34-8e3c82fc1cee": {
     "id": "6badb8b9-0dd6-4b8e-bc34-8e3c82fc1cee",
     "prev": "8d00b10d-a50c-4c8c-8aa3-4b96326e7792",
     "regions": {
      "444ae032-498b-4a2d-9f50-60a2d08554d2": {
       "attrs": {
        "height": 0.8,
        "width": 0.8,
        "x": 0.1,
        "y": 0.1
       },
       "content": {
        "cell": "68315766-1224-441d-b885-62c72a52882c",
        "part": "whole"
       },
       "id": "444ae032-498b-4a2d-9f50-60a2d08554d2"
      }
     }
    },
    "6d5a6a97-1746-45ad-9513-4a3f23ec7e98": {
     "id": "6d5a6a97-1746-45ad-9513-4a3f23ec7e98",
     "prev": "c3633bba-09ab-4599-b73d-7fcd01273f1d",
     "regions": {
      "9baf6254-c1c3-4c9c-b0ae-a3f58c01bf2c": {
       "attrs": {
        "height": 0.8,
        "width": 0.8,
        "x": 0.1,
        "y": 0.1
       },
       "content": {
        "cell": "0bf850ae-254a-4b64-bbd5-1392d86f509b",
        "part": "whole"
       },
       "id": "9baf6254-c1c3-4c9c-b0ae-a3f58c01bf2c"
      }
     }
    },
    "715feff7-433a-4fab-b45e-3f155e72fdc2": {
     "id": "715feff7-433a-4fab-b45e-3f155e72fdc2",
     "prev": "f35e4cc8-8031-40f3-94e3-9837cf616ed7",
     "regions": {
      "6d1ac939-1a36-4ade-beea-bab6e2bd20e1": {
       "attrs": {
        "height": 0.8,
        "width": 0.8,
        "x": 0.1,
        "y": 0.1
       },
       "content": {
        "cell": "e701b87b-0ee5-4f0d-810b-e729ebe447e1",
        "part": "whole"
       },
       "id": "6d1ac939-1a36-4ade-beea-bab6e2bd20e1"
      }
     }
    },
    "7253ff3f-ef48-4bc9-a791-53aaf643a229": {
     "id": "7253ff3f-ef48-4bc9-a791-53aaf643a229",
     "prev": "4a821faa-cb0f-4ba3-8813-d0b3a6ae6701",
     "regions": {
      "6399a719-416b-43de-9497-58e87dc91649": {
       "attrs": {
        "height": 0.8,
        "width": 0.8,
        "x": 0.1,
        "y": 0.1
       },
       "content": {
        "cell": "c942b7c2-a4ed-4606-bfca-439b7ebcceb7",
        "part": "whole"
       },
       "id": "6399a719-416b-43de-9497-58e87dc91649"
      }
     }
    },
    "734a7f11-e401-4a14-aae7-363502f971fd": {
     "id": "734a7f11-e401-4a14-aae7-363502f971fd",
     "prev": "8ddf83ba-12b4-4075-bc33-8a18f1f23b6e",
     "regions": {
      "737b3834-376a-46fb-8381-c3cd49fa51a4": {
       "attrs": {
        "height": 0.8,
        "width": 0.8,
        "x": 0.1,
        "y": 0.1
       },
       "content": {
        "cell": "939a2a97-34ed-4c98-b8d5-531b23238fdd",
        "part": "whole"
       },
       "id": "737b3834-376a-46fb-8381-c3cd49fa51a4"
      }
     }
    },
    "74eef39d-9fee-45e7-8689-cd82e99e9e8d": {
     "id": "74eef39d-9fee-45e7-8689-cd82e99e9e8d",
     "prev": "4e10843a-0907-412d-8b00-24303035bb55",
     "regions": {
      "ff1fecca-57e4-42d7-8819-7ba9eee28d9a": {
       "attrs": {
        "height": 0.8,
        "width": 0.8,
        "x": 0.1,
        "y": 0.1
       },
       "content": {
        "cell": "38af8cd8-11ce-49e9-a4bd-1074f6cd656f",
        "part": "whole"
       },
       "id": "ff1fecca-57e4-42d7-8819-7ba9eee28d9a"
      }
     }
    },
    "76491ec3-f70d-4fe0-8aee-b44e5436ea6c": {
     "id": "76491ec3-f70d-4fe0-8aee-b44e5436ea6c",
     "prev": "14bd973f-6471-4e23-9da2-249109ff5366",
     "regions": {
      "5e7fd33d-2a7f-42b6-a3b2-a69485710ba0": {
       "attrs": {
        "height": 0.8,
        "width": 0.8,
        "x": 0.1,
        "y": 0.1
       },
       "content": {
        "cell": "68407458-f6c1-4dcd-9526-e5552abd0a69",
        "part": "whole"
       },
       "id": "5e7fd33d-2a7f-42b6-a3b2-a69485710ba0"
      }
     }
    },
    "79ad71a2-345a-4b0d-92ff-07f1ca4f3778": {
     "id": "79ad71a2-345a-4b0d-92ff-07f1ca4f3778",
     "prev": "61f96558-fb5b-495e-b6b6-55cc155ea4b1",
     "regions": {
      "c0e372e2-f675-419d-959e-4ba924e5431a": {
       "attrs": {
        "height": 0.8,
        "width": 0.8,
        "x": 0.1,
        "y": 0.1
       },
       "content": {
        "cell": "e1b4208c-cec6-4686-8e5c-358ac804aa50",
        "part": "whole"
       },
       "id": "c0e372e2-f675-419d-959e-4ba924e5431a"
      }
     }
    },
    "7ab30eb0-6289-4086-abfd-0e3a1fe2a8ca": {
     "id": "7ab30eb0-6289-4086-abfd-0e3a1fe2a8ca",
     "prev": "9428bcfe-de84-45fe-ab1e-6f8b3556eca6",
     "regions": {
      "e5a54b5b-d030-4410-93c7-3b728114c5ff": {
       "attrs": {
        "height": 0.8,
        "width": 0.8,
        "x": 0.1,
        "y": 0.1
       },
       "content": {
        "cell": "66ceae3f-b11c-4a2e-9027-96e41ad54c65",
        "part": "whole"
       },
       "id": "e5a54b5b-d030-4410-93c7-3b728114c5ff"
      }
     }
    },
    "7d690d4e-3b1d-4603-a03f-862e1c4fda64": {
     "id": "7d690d4e-3b1d-4603-a03f-862e1c4fda64",
     "prev": "7ab30eb0-6289-4086-abfd-0e3a1fe2a8ca",
     "regions": {
      "a0635a2f-90ee-4a99-b6fa-ed37b8a6f829": {
       "attrs": {
        "height": 0.8,
        "width": 0.8,
        "x": 0.1,
        "y": 0.1
       },
       "content": {
        "cell": "72a660f2-b1bf-4ec5-be48-8210746664a4",
        "part": "whole"
       },
       "id": "a0635a2f-90ee-4a99-b6fa-ed37b8a6f829"
      }
     }
    },
    "7f1865ae-6a3c-4a49-b261-fcbea14b1d50": {
     "id": "7f1865ae-6a3c-4a49-b261-fcbea14b1d50",
     "prev": "0fc490ba-4de8-4b2c-a803-904009f634f2",
     "regions": {
      "10c29e52-6e99-4bfb-92b3-0124fcee687d": {
       "attrs": {
        "height": 0.8,
        "width": 0.8,
        "x": 0.1,
        "y": 0.1
       },
       "content": {
        "cell": "02f6e8d9-e33b-4fc2-aef2-5df640c47fd5",
        "part": "whole"
       },
       "id": "10c29e52-6e99-4bfb-92b3-0124fcee687d"
      }
     }
    },
    "80e62075-cee6-44b1-af35-47b38f31e5cb": {
     "id": "80e62075-cee6-44b1-af35-47b38f31e5cb",
     "prev": "7f1865ae-6a3c-4a49-b261-fcbea14b1d50",
     "regions": {
      "3edfee0a-8fba-4c97-a060-f978bfa3eabe": {
       "attrs": {
        "height": 0.8,
        "width": 0.8,
        "x": 0.1,
        "y": 0.1
       },
       "content": {
        "cell": "5097a88f-2b65-412f-8f86-b54ea5ded1d5",
        "part": "whole"
       },
       "id": "3edfee0a-8fba-4c97-a060-f978bfa3eabe"
      }
     }
    },
    "829e687e-0eb4-4475-abe4-d45f62009a85": {
     "id": "829e687e-0eb4-4475-abe4-d45f62009a85",
     "prev": "7253ff3f-ef48-4bc9-a791-53aaf643a229",
     "regions": {
      "d914bc16-0891-4a7c-b65d-b01311e2366c": {
       "attrs": {
        "height": 0.8,
        "width": 0.8,
        "x": 0.1,
        "y": 0.1
       },
       "content": {
        "cell": "d6552291-81f0-4539-8585-22fe850aa4bd",
        "part": "whole"
       },
       "id": "d914bc16-0891-4a7c-b65d-b01311e2366c"
      }
     }
    },
    "831ea5db-96f7-4596-a3f8-b581e2a927ed": {
     "id": "831ea5db-96f7-4596-a3f8-b581e2a927ed",
     "prev": "829e687e-0eb4-4475-abe4-d45f62009a85",
     "regions": {
      "01d40907-4689-47fd-9207-8e52f670de5d": {
       "attrs": {
        "height": 0.8,
        "width": 0.8,
        "x": 0.1,
        "y": 0.1
       },
       "content": {
        "cell": "36ca32e6-deab-4364-a4ee-0c886485a144",
        "part": "whole"
       },
       "id": "01d40907-4689-47fd-9207-8e52f670de5d"
      }
     }
    },
    "832e09b1-4e8e-4628-9c88-533b5a442864": {
     "id": "832e09b1-4e8e-4628-9c88-533b5a442864",
     "prev": "c2ba50d7-812a-479a-bdb2-30fcef94ea14",
     "regions": {
      "77c794f3-f278-4342-b131-20ef6d52f2cd": {
       "attrs": {
        "height": 0.8,
        "width": 0.8,
        "x": 0.1,
        "y": 0.1
       },
       "content": {
        "cell": "1e4d2e13-7e86-4da2-a6a3-babb32ab0442",
        "part": "whole"
       },
       "id": "77c794f3-f278-4342-b131-20ef6d52f2cd"
      }
     }
    },
    "8425370d-15a1-4f25-b9da-e84ad1287d1e": {
     "id": "8425370d-15a1-4f25-b9da-e84ad1287d1e",
     "prev": "0fb1f28f-c4a0-4263-a652-ae7fa9329642",
     "regions": {
      "34324406-81a5-4498-8dc8-8ae23e144db7": {
       "attrs": {
        "height": 0.8,
        "width": 0.8,
        "x": 0.1,
        "y": 0.1
       },
       "content": {
        "cell": "a1b28411-294a-4744-b298-9e29446f962d",
        "part": "whole"
       },
       "id": "34324406-81a5-4498-8dc8-8ae23e144db7"
      }
     }
    },
    "849e860c-fff6-4178-8198-205d7b70e8a1": {
     "id": "849e860c-fff6-4178-8198-205d7b70e8a1",
     "prev": "f1de3c11-eb9a-4438-9bfb-4ce5d295df33",
     "regions": {
      "be9fd316-e95e-4c75-a312-1951d9f717f5": {
       "attrs": {
        "height": 0.8,
        "width": 0.8,
        "x": 0.1,
        "y": 0.1
       },
       "content": {
        "cell": "e1e5eac7-1019-4840-90ce-132779c6ded6",
        "part": "whole"
       },
       "id": "be9fd316-e95e-4c75-a312-1951d9f717f5"
      }
     }
    },
    "84ff8974-da4a-420a-94c7-8623bd15e41e": {
     "id": "84ff8974-da4a-420a-94c7-8623bd15e41e",
     "prev": "1739ad60-442f-40f8-abe3-89b2763deede",
     "regions": {
      "53a98328-152a-47a6-9d0f-e4bf3f6f2b66": {
       "attrs": {
        "height": 0.8,
        "width": 0.8,
        "x": 0.1,
        "y": 0.1
       },
       "content": {
        "cell": "7776cae6-1a7c-4224-ab8a-7781d48eced6",
        "part": "whole"
       },
       "id": "53a98328-152a-47a6-9d0f-e4bf3f6f2b66"
      }
     }
    },
    "872a44a1-f1da-4662-9684-ba8c583603a3": {
     "id": "872a44a1-f1da-4662-9684-ba8c583603a3",
     "prev": "6d5a6a97-1746-45ad-9513-4a3f23ec7e98",
     "regions": {
      "3deef043-ef98-404a-8d93-44b7d0ada8ef": {
       "attrs": {
        "height": 0.8,
        "width": 0.8,
        "x": 0.1,
        "y": 0.1
       },
       "content": {
        "cell": "2a0a84bf-8fab-4d2d-9244-062067417f2b",
        "part": "whole"
       },
       "id": "3deef043-ef98-404a-8d93-44b7d0ada8ef"
      }
     }
    },
    "8d00b10d-a50c-4c8c-8aa3-4b96326e7792": {
     "id": "8d00b10d-a50c-4c8c-8aa3-4b96326e7792",
     "prev": "256008c6-6298-4d0c-a5c9-f13c399153e3",
     "regions": {
      "42152468-c773-482b-ba8f-9351ff4aeda9": {
       "attrs": {
        "height": 0.8,
        "width": 0.8,
        "x": 0.1,
        "y": 0.1
       },
       "content": {
        "cell": "b395009f-af31-4049-9e45-5fe48c2fc3d3",
        "part": "whole"
       },
       "id": "42152468-c773-482b-ba8f-9351ff4aeda9"
      }
     }
    },
    "8ddf83ba-12b4-4075-bc33-8a18f1f23b6e": {
     "id": "8ddf83ba-12b4-4075-bc33-8a18f1f23b6e",
     "prev": "9f7bedbf-ce40-4284-9234-a5753be105a5",
     "regions": {
      "37d4a9fc-e4e4-417c-9310-0fb8a11a9622": {
       "attrs": {
        "height": 0.8,
        "width": 0.8,
        "x": 0.1,
        "y": 0.1
       },
       "content": {
        "cell": "a0935dd7-c0dc-44a2-acd8-2b47bf76eb6a",
        "part": "whole"
       },
       "id": "37d4a9fc-e4e4-417c-9310-0fb8a11a9622"
      }
     }
    },
    "90922d04-dcac-4daf-beeb-dd48714476eb": {
     "id": "90922d04-dcac-4daf-beeb-dd48714476eb",
     "prev": "495742f6-5219-4bcc-bd71-a36aced67599",
     "regions": {
      "a263b2c2-1a9b-4ce8-b0fb-ca8a6d4df153": {
       "attrs": {
        "height": 0.8,
        "width": 0.8,
        "x": 0.1,
        "y": 0.1
       },
       "content": {
        "cell": "ac2c34cf-7a96-4ad3-98ee-e59588c303f1",
        "part": "whole"
       },
       "id": "a263b2c2-1a9b-4ce8-b0fb-ca8a6d4df153"
      }
     }
    },
    "919bd687-87ac-4db6-83a2-8345ecc62bbf": {
     "id": "919bd687-87ac-4db6-83a2-8345ecc62bbf",
     "prev": "adf78c27-b7e3-47ac-943b-6fca884fe0ad",
     "regions": {
      "7b4846d0-d657-432e-b6f1-d7fb80ea3672": {
       "attrs": {
        "height": 0.8,
        "width": 0.8,
        "x": 0.1,
        "y": 0.1
       },
       "content": {
        "cell": "3edc2a1d-77cc-46d1-9192-0e184c3a7e6d",
        "part": "whole"
       },
       "id": "7b4846d0-d657-432e-b6f1-d7fb80ea3672"
      }
     }
    },
    "9428bcfe-de84-45fe-ab1e-6f8b3556eca6": {
     "id": "9428bcfe-de84-45fe-ab1e-6f8b3556eca6",
     "prev": "513fac53-c8eb-4933-bd7c-b7185f15cb7e",
     "regions": {
      "a1163ed1-099c-4bf6-9a2e-fad112b02fae": {
       "attrs": {
        "height": 0.8,
        "width": 0.8,
        "x": 0.1,
        "y": 0.1
       },
       "content": {
        "cell": "ae75e75b-9188-4869-9d13-2b32a54eb198",
        "part": "whole"
       },
       "id": "a1163ed1-099c-4bf6-9a2e-fad112b02fae"
      }
     }
    },
    "9925f3b0-6318-4c39-a5a2-b12f16ec8c0e": {
     "id": "9925f3b0-6318-4c39-a5a2-b12f16ec8c0e",
     "prev": "30d19d04-6869-44a2-933c-9fe7d8fb47e5",
     "regions": {
      "ac217762-53e2-46e0-89f3-6115fa06783d": {
       "attrs": {
        "height": 0.8,
        "width": 0.8,
        "x": 0.1,
        "y": 0.1
       },
       "content": {
        "cell": "ceef3550-6385-4ffa-baae-2389aba516bb",
        "part": "whole"
       },
       "id": "ac217762-53e2-46e0-89f3-6115fa06783d"
      }
     }
    },
    "9ed67dae-ffe5-43f5-b712-5d773518121e": {
     "id": "9ed67dae-ffe5-43f5-b712-5d773518121e",
     "prev": "28a8a521-2777-47fd-b376-455aa39a0c00",
     "regions": {
      "093baad4-ec7b-4360-96cf-8f9beb958b65": {
       "attrs": {
        "height": 0.8,
        "width": 0.8,
        "x": 0.1,
        "y": 0.1
       },
       "content": {
        "cell": "b0e0ebac-4b5a-4bae-a502-27598649983e",
        "part": "whole"
       },
       "id": "093baad4-ec7b-4360-96cf-8f9beb958b65"
      }
     }
    },
    "9f7bedbf-ce40-4284-9234-a5753be105a5": {
     "id": "9f7bedbf-ce40-4284-9234-a5753be105a5",
     "prev": "faf93395-f69f-4f1d-889a-59a8352b50f5",
     "regions": {
      "4004d459-bf80-4a21-bdd1-9d1968d0f776": {
       "attrs": {
        "height": 0.8,
        "width": 0.8,
        "x": 0.1,
        "y": 0.1
       },
       "content": {
        "cell": "7efdb2b9-5e8a-4908-a9db-bfa70e14c058",
        "part": "whole"
       },
       "id": "4004d459-bf80-4a21-bdd1-9d1968d0f776"
      }
     }
    },
    "a1ad8761-2efa-448f-8386-ccfb706adc1d": {
     "id": "a1ad8761-2efa-448f-8386-ccfb706adc1d",
     "prev": "f70fa2b9-1fdb-46d1-a324-939b2a7b2691",
     "regions": {
      "595fc9e1-d2f9-4f54-89f9-4dcaf2011962": {
       "attrs": {
        "height": 0.8,
        "width": 0.8,
        "x": 0.1,
        "y": 0.1
       },
       "content": {
        "cell": "43337530-59fb-40a2-bdb0-1297a13a34c8",
        "part": "whole"
       },
       "id": "595fc9e1-d2f9-4f54-89f9-4dcaf2011962"
      }
     }
    },
    "a814cbfc-f5b5-45bc-8a5e-515356f56deb": {
     "id": "a814cbfc-f5b5-45bc-8a5e-515356f56deb",
     "prev": "90922d04-dcac-4daf-beeb-dd48714476eb",
     "regions": {
      "f0fc57a0-3750-47ba-833c-93e1fd627f1a": {
       "attrs": {
        "height": 0.8,
        "width": 0.8,
        "x": 0.1,
        "y": 0.1
       },
       "content": {
        "cell": "fba66a6a-66a9-424c-bc45-8b07243e8cd9",
        "part": "whole"
       },
       "id": "f0fc57a0-3750-47ba-833c-93e1fd627f1a"
      }
     }
    },
    "a9c7a59c-07a5-4c53-9a59-4b5ecfb837ae": {
     "id": "a9c7a59c-07a5-4c53-9a59-4b5ecfb837ae",
     "prev": "b43fbad3-48f2-4cfb-bc11-f1dec79ef42c",
     "regions": {
      "78356fb2-6160-4d47-8541-1148d29107cc": {
       "attrs": {
        "height": 0.8,
        "width": 0.8,
        "x": 0.1,
        "y": 0.1
       },
       "content": {
        "cell": "999d39db-69fe-4d7c-998f-398dae073a52",
        "part": "whole"
       },
       "id": "78356fb2-6160-4d47-8541-1148d29107cc"
      }
     }
    },
    "aa88a4cd-8f21-4eaa-b361-c908ad632906": {
     "id": "aa88a4cd-8f21-4eaa-b361-c908ad632906",
     "prev": "bfa066f7-6c63-4d58-9202-c3421431600a",
     "regions": {
      "e922c4be-d4ca-46f1-ad4c-899095dad3cf": {
       "attrs": {
        "height": 0.8,
        "width": 0.8,
        "x": 0.1,
        "y": 0.1
       },
       "content": {
        "cell": "22b34853-65e0-44ff-97e7-a35289c0f0bb",
        "part": "whole"
       },
       "id": "e922c4be-d4ca-46f1-ad4c-899095dad3cf"
      }
     }
    },
    "ab673a77-f1bc-4e64-aef5-2853ad9c4064": {
     "id": "ab673a77-f1bc-4e64-aef5-2853ad9c4064",
     "prev": "0cda1ca3-b50b-4798-9344-fd4b3e8f7be7",
     "regions": {
      "dcc3159a-b5db-443c-a44f-2fa7f90b9967": {
       "attrs": {
        "height": 0.8,
        "width": 0.8,
        "x": 0.1,
        "y": 0.1
       },
       "content": {
        "cell": "36a4e7c9-8b07-463e-b4f6-0ad1914dc27e",
        "part": "whole"
       },
       "id": "dcc3159a-b5db-443c-a44f-2fa7f90b9967"
      }
     }
    },
    "adb88f99-c065-4e61-be93-fc2c3f1eb800": {
     "id": "adb88f99-c065-4e61-be93-fc2c3f1eb800",
     "prev": "0d5f4ac8-6c89-41d4-a4a7-d928bb5377c9",
     "regions": {
      "98c103dd-3128-42fa-b434-acbff5e0d56a": {
       "attrs": {
        "height": 0.8,
        "width": 0.8,
        "x": 0.1,
        "y": 0.1
       },
       "content": {
        "cell": "39b16f21-29c4-470d-aabc-eb3cc2e2bfc7",
        "part": "whole"
       },
       "id": "98c103dd-3128-42fa-b434-acbff5e0d56a"
      }
     }
    },
    "adf78c27-b7e3-47ac-943b-6fca884fe0ad": {
     "id": "adf78c27-b7e3-47ac-943b-6fca884fe0ad",
     "prev": "2497cbf5-7d66-4c44-ac3d-2f3f81b22e0e",
     "regions": {
      "ee7633d2-2586-4ef9-9c39-582899b9ad23": {
       "attrs": {
        "height": 0.8,
        "width": 0.8,
        "x": 0.1,
        "y": 0.1
       },
       "content": {
        "cell": "91b0e1ae-6391-4621-b5a0-00ab2d8cfa98",
        "part": "whole"
       },
       "id": "ee7633d2-2586-4ef9-9c39-582899b9ad23"
      }
     }
    },
    "aec177c7-97b5-4a99-a26d-c05abe673669": {
     "id": "aec177c7-97b5-4a99-a26d-c05abe673669",
     "prev": "5ed15d37-bcef-461a-8161-f814d2a57a19",
     "regions": {
      "7ee346d6-45b4-4a0a-9e0b-93435eae8d3f": {
       "attrs": {
        "height": 0.8,
        "width": 0.8,
        "x": 0.1,
        "y": 0.1
       },
       "content": {
        "cell": "8797c61f-33df-4ecc-a7cd-26b5219bdf23",
        "part": "whole"
       },
       "id": "7ee346d6-45b4-4a0a-9e0b-93435eae8d3f"
      }
     }
    },
    "b43fbad3-48f2-4cfb-bc11-f1dec79ef42c": {
     "id": "b43fbad3-48f2-4cfb-bc11-f1dec79ef42c",
     "prev": "35a7448d-9e3d-4a37-941a-9d1679acef2d",
     "regions": {
      "79d7d3ba-62b8-468a-8258-1387887a60fd": {
       "attrs": {
        "height": 0.8,
        "width": 0.8,
        "x": 0.1,
        "y": 0.1
       },
       "content": {
        "cell": "c46d1bf2-d67f-4869-bde6-ddc855dd1632",
        "part": "whole"
       },
       "id": "79d7d3ba-62b8-468a-8258-1387887a60fd"
      }
     }
    },
    "b518241b-c800-4c64-935d-5ba9eff67002": {
     "id": "b518241b-c800-4c64-935d-5ba9eff67002",
     "prev": "6badb8b9-0dd6-4b8e-bc34-8e3c82fc1cee",
     "regions": {
      "a7934bb0-52ef-422f-9ec6-56b936512361": {
       "attrs": {
        "height": 0.8,
        "width": 0.8,
        "x": 0.1,
        "y": 0.1
       },
       "content": {
        "cell": "a75bc4c4-6ec7-44ee-a0c5-f8dd00e01b26",
        "part": "whole"
       },
       "id": "a7934bb0-52ef-422f-9ec6-56b936512361"
      }
     }
    },
    "be5f20c8-8ae9-4334-a299-3b31edc0a194": {
     "id": "be5f20c8-8ae9-4334-a299-3b31edc0a194",
     "prev": "5db8903f-903c-457d-be24-131ae6e87d14",
     "regions": {
      "2bce3ab9-8d75-44f1-8190-747721340a58": {
       "attrs": {
        "height": 0.8,
        "width": 0.8,
        "x": 0.1,
        "y": 0.1
       },
       "content": {
        "cell": "bdb705b5-c152-4d2e-b4df-66fe75eaad5a",
        "part": "whole"
       },
       "id": "2bce3ab9-8d75-44f1-8190-747721340a58"
      }
     }
    },
    "bfa066f7-6c63-4d58-9202-c3421431600a": {
     "id": "bfa066f7-6c63-4d58-9202-c3421431600a",
     "prev": "23d5c33a-c24c-4b29-8ac6-2caba92a1281",
     "regions": {
      "9594c656-9677-47e1-9744-014165c6be33": {
       "attrs": {
        "height": 0.8,
        "width": 0.8,
        "x": 0.1,
        "y": 0.1
       },
       "content": {
        "cell": "99a15fe4-43a4-4a4b-86d5-630857aa5d30",
        "part": "whole"
       },
       "id": "9594c656-9677-47e1-9744-014165c6be33"
      }
     }
    },
    "c003f7be-b32e-4ee0-a144-e55feca49497": {
     "id": "c003f7be-b32e-4ee0-a144-e55feca49497",
     "prev": "715feff7-433a-4fab-b45e-3f155e72fdc2",
     "regions": {
      "04139fbb-f73c-483f-b8ce-fd44483073ea": {
       "attrs": {
        "height": 0.8,
        "width": 0.8,
        "x": 0.1,
        "y": 0.1
       },
       "content": {
        "cell": "24f4c283-e4fd-4679-824f-9e14ff993f8e",
        "part": "whole"
       },
       "id": "04139fbb-f73c-483f-b8ce-fd44483073ea"
      }
     }
    },
    "c2ba50d7-812a-479a-bdb2-30fcef94ea14": {
     "id": "c2ba50d7-812a-479a-bdb2-30fcef94ea14",
     "prev": "849e860c-fff6-4178-8198-205d7b70e8a1",
     "regions": {
      "cede486b-4371-4655-827e-4014dfee3e33": {
       "attrs": {
        "height": 0.8,
        "width": 0.8,
        "x": 0.1,
        "y": 0.1
       },
       "content": {
        "cell": "a3b3a5b6-38d6-40b5-a2ae-a16cde85a11b",
        "part": "whole"
       },
       "id": "cede486b-4371-4655-827e-4014dfee3e33"
      }
     }
    },
    "c317c9cc-20bb-4727-8290-d0fb7d05a0f8": {
     "id": "c317c9cc-20bb-4727-8290-d0fb7d05a0f8",
     "prev": "d3224e58-0fe0-44d1-9958-b4d3d95a1925",
     "regions": {
      "dd028ef7-0626-4592-a7e1-747395210503": {
       "attrs": {
        "height": 0.8,
        "width": 0.8,
        "x": 0.1,
        "y": 0.1
       },
       "content": {
        "cell": "1e9b5558-c1c7-48b6-a531-dc36630ea7e7",
        "part": "whole"
       },
       "id": "dd028ef7-0626-4592-a7e1-747395210503"
      }
     }
    },
    "c3633bba-09ab-4599-b73d-7fcd01273f1d": {
     "id": "c3633bba-09ab-4599-b73d-7fcd01273f1d",
     "prev": "80e62075-cee6-44b1-af35-47b38f31e5cb",
     "regions": {
      "35a76c7c-1a5a-45c2-b910-a8120afd67af": {
       "attrs": {
        "height": 0.8,
        "width": 0.8,
        "x": 0.1,
        "y": 0.1
       },
       "content": {
        "cell": "74c073e7-404f-4144-900d-bda687b55298",
        "part": "whole"
       },
       "id": "35a76c7c-1a5a-45c2-b910-a8120afd67af"
      }
     }
    },
    "c829ee87-181d-4d2e-a0e8-99af875ee94d": {
     "id": "c829ee87-181d-4d2e-a0e8-99af875ee94d",
     "prev": "f0bbb984-5d3f-41f0-bafb-bf878d65b1da",
     "regions": {
      "80823677-586c-420f-b20b-b5aef5a59495": {
       "attrs": {
        "height": 0.8,
        "width": 0.8,
        "x": 0.1,
        "y": 0.1
       },
       "content": {
        "cell": "6e9654be-2599-4e66-bc4f-19ba8dd74e23",
        "part": "whole"
       },
       "id": "80823677-586c-420f-b20b-b5aef5a59495"
      }
     }
    },
    "d05d8dd7-470e-4e23-bab7-ebc51ebbf189": {
     "id": "d05d8dd7-470e-4e23-bab7-ebc51ebbf189",
     "prev": "872a44a1-f1da-4662-9684-ba8c583603a3",
     "regions": {
      "65e9de54-c729-4f0a-a4dc-99c94da0c614": {
       "attrs": {
        "height": 0.8,
        "width": 0.8,
        "x": 0.1,
        "y": 0.1
       },
       "content": {
        "cell": "afa70694-4f95-4678-ba85-f78a5156b7b7",
        "part": "whole"
       },
       "id": "65e9de54-c729-4f0a-a4dc-99c94da0c614"
      }
     }
    },
    "d3224e58-0fe0-44d1-9958-b4d3d95a1925": {
     "id": "d3224e58-0fe0-44d1-9958-b4d3d95a1925",
     "prev": "1f428a4b-e6bf-44f4-82a8-000df44d6bba",
     "regions": {
      "dc4e185a-658b-4934-9898-52eb0b52966d": {
       "attrs": {
        "height": 0.8,
        "width": 0.8,
        "x": 0.1,
        "y": 0.1
       },
       "content": {
        "cell": "0ca949aa-3bfe-411c-8916-2c895daf117d",
        "part": "whole"
       },
       "id": "dc4e185a-658b-4934-9898-52eb0b52966d"
      }
     }
    },
    "d3abd4fd-5595-426f-a2fe-dc2235b702b0": {
     "id": "d3abd4fd-5595-426f-a2fe-dc2235b702b0",
     "prev": "dd0daac8-2371-4616-96dd-c705738a6869",
     "regions": {
      "a02f719b-c066-4ff6-adae-fb7b58c79c55": {
       "attrs": {
        "height": 0.8,
        "width": 0.8,
        "x": 0.1,
        "y": 0.1
       },
       "content": {
        "cell": "a4835d84-bc3b-4541-a2a2-b9576f014ac9",
        "part": "whole"
       },
       "id": "a02f719b-c066-4ff6-adae-fb7b58c79c55"
      }
     }
    },
    "dc58b355-4228-40f4-a2ae-f16eec24a9f3": {
     "id": "dc58b355-4228-40f4-a2ae-f16eec24a9f3",
     "prev": "1c86f480-a955-4d4b-86da-9b7807bd9fbf",
     "regions": {
      "083e4052-6d6a-407c-8075-617bf7185edf": {
       "attrs": {
        "height": 0.8,
        "width": 0.8,
        "x": 0.1,
        "y": 0.1
       },
       "content": {
        "cell": "12c2eea0-46ec-4005-a006-d0e469a1a2dc",
        "part": "whole"
       },
       "id": "083e4052-6d6a-407c-8075-617bf7185edf"
      }
     }
    },
    "dd0daac8-2371-4616-96dd-c705738a6869": {
     "id": "dd0daac8-2371-4616-96dd-c705738a6869",
     "prev": "5fd327a5-a050-40b3-beb3-0eeeb86f2e78",
     "regions": {
      "c6559eda-12a6-4e8a-ad2f-275374c5a977": {
       "attrs": {
        "height": 0.8,
        "width": 0.8,
        "x": 0.1,
        "y": 0.1
       },
       "content": {
        "cell": "ba8b86c1-6ece-4b66-993a-371efa9522cc",
        "part": "whole"
       },
       "id": "c6559eda-12a6-4e8a-ad2f-275374c5a977"
      }
     }
    },
    "e1ec84c6-3570-46b9-aaef-1df21fec8c86": {
     "id": "e1ec84c6-3570-46b9-aaef-1df21fec8c86",
     "prev": "a1ad8761-2efa-448f-8386-ccfb706adc1d",
     "regions": {
      "9ff4a832-117d-4d39-b2ac-87e0b9820775": {
       "attrs": {
        "height": 0.8,
        "width": 0.8,
        "x": 0.1,
        "y": 0.1
       },
       "content": {
        "cell": "d218c5f9-95e9-4bf8-bba5-9f344bcf2a05",
        "part": "whole"
       },
       "id": "9ff4a832-117d-4d39-b2ac-87e0b9820775"
      }
     }
    },
    "e9645e97-076d-49a2-ac50-60df72e22059": {
     "id": "e9645e97-076d-49a2-ac50-60df72e22059",
     "prev": "38a629d5-1e3a-4e8a-9a28-c6f4a948e9b1",
     "regions": {
      "c96f948f-016c-4656-8eb5-b8fcc957892f": {
       "attrs": {
        "height": 0.8,
        "width": 0.8,
        "x": 0.1,
        "y": 0.1
       },
       "content": {
        "cell": "ab7daebe-ccf9-4a78-a370-aef26630012d",
        "part": "whole"
       },
       "id": "c96f948f-016c-4656-8eb5-b8fcc957892f"
      }
     }
    },
    "ebd3a3d1-f8d1-4480-8b59-b2145a9993b2": {
     "id": "ebd3a3d1-f8d1-4480-8b59-b2145a9993b2",
     "prev": "c317c9cc-20bb-4727-8290-d0fb7d05a0f8",
     "regions": {
      "c0538426-fccd-4bb9-b62d-6a224e6b0da5": {
       "attrs": {
        "height": 0.8,
        "width": 0.8,
        "x": 0.1,
        "y": 0.1
       },
       "content": {
        "cell": "49e5215c-5aa6-4472-b8aa-9898813f5789",
        "part": "whole"
       },
       "id": "c0538426-fccd-4bb9-b62d-6a224e6b0da5"
      }
     }
    },
    "edc897d5-8c1f-4304-b9bc-06c0eabe3de3": {
     "id": "edc897d5-8c1f-4304-b9bc-06c0eabe3de3",
     "prev": "dc58b355-4228-40f4-a2ae-f16eec24a9f3",
     "regions": {
      "b5dd66cc-6c3e-4788-aa3a-34547dea8f50": {
       "attrs": {
        "height": 0.8,
        "width": 0.8,
        "x": 0.1,
        "y": 0.1
       },
       "content": {
        "cell": "5fa15e50-acad-424b-a695-bc700ea716e6",
        "part": "whole"
       },
       "id": "b5dd66cc-6c3e-4788-aa3a-34547dea8f50"
      }
     }
    },
    "eebd33cb-9a34-4744-9296-591db296e8b2": {
     "id": "eebd33cb-9a34-4744-9296-591db296e8b2",
     "prev": "e1ec84c6-3570-46b9-aaef-1df21fec8c86",
     "regions": {
      "1b91175b-8913-488a-9259-50fc0f04a0d1": {
       "attrs": {
        "height": 0.8,
        "width": 0.8,
        "x": 0.1,
        "y": 0.1
       },
       "content": {
        "cell": "b51de666-a7ba-478a-abce-fee6ee65fc4c",
        "part": "whole"
       },
       "id": "1b91175b-8913-488a-9259-50fc0f04a0d1"
      }
     }
    },
    "eef0d87f-4f03-45b9-ba0f-cde00f646fb5": {
     "id": "eef0d87f-4f03-45b9-ba0f-cde00f646fb5",
     "prev": "4319f966-748c-4bdb-87db-82fccd9fbab8",
     "regions": {
      "53d65ee0-bc12-4f58-8f75-fc90f17dfee6": {
       "attrs": {
        "height": 0.8,
        "width": 0.8,
        "x": 0.1,
        "y": 0.1
       },
       "content": {
        "cell": "c0bdd3b9-2cc6-48fa-9c1d-87ebe955a834",
        "part": "whole"
       },
       "id": "53d65ee0-bc12-4f58-8f75-fc90f17dfee6"
      }
     }
    },
    "f0bbb984-5d3f-41f0-bafb-bf878d65b1da": {
     "id": "f0bbb984-5d3f-41f0-bafb-bf878d65b1da",
     "prev": null,
     "regions": {
      "ac99c2ef-d731-4e7a-a29e-be158e56004e": {
       "attrs": {
        "height": 0.8,
        "width": 0.8,
        "x": 0.1,
        "y": 0.1
       },
       "content": {
        "cell": "1ad9e6fc-734a-4739-8c02-12ae43ed107d",
        "part": "whole"
       },
       "id": "ac99c2ef-d731-4e7a-a29e-be158e56004e"
      }
     }
    },
    "f1de3c11-eb9a-4438-9bfb-4ce5d295df33": {
     "id": "f1de3c11-eb9a-4438-9bfb-4ce5d295df33",
     "prev": "734a7f11-e401-4a14-aae7-363502f971fd",
     "regions": {
      "5ba6e0d7-052e-4e09-b631-fa5844599dee": {
       "attrs": {
        "height": 0.8,
        "width": 0.8,
        "x": 0.1,
        "y": 0.1
       },
       "content": {
        "cell": "1b74814a-f10d-48f7-9691-b6d28c3be21f",
        "part": "whole"
       },
       "id": "5ba6e0d7-052e-4e09-b631-fa5844599dee"
      }
     }
    },
    "f1e61699-d8cb-42b1-a5b6-b3f50e59efa3": {
     "id": "f1e61699-d8cb-42b1-a5b6-b3f50e59efa3",
     "prev": "67f0cb37-8327-496f-8a87-5513ac0669c3",
     "regions": {
      "7873578a-c20b-4aa0-ac14-1df80b3d223e": {
       "attrs": {
        "height": 0.8,
        "width": 0.8,
        "x": 0.1,
        "y": 0.1
       },
       "content": {
        "cell": "da25a949-23cb-4d4b-a021-96ffbf1b4ae3",
        "part": "whole"
       },
       "id": "7873578a-c20b-4aa0-ac14-1df80b3d223e"
      }
     }
    },
    "f35e4cc8-8031-40f3-94e3-9837cf616ed7": {
     "id": "f35e4cc8-8031-40f3-94e3-9837cf616ed7",
     "prev": "832e09b1-4e8e-4628-9c88-533b5a442864",
     "regions": {
      "4ad37976-ca37-4021-8899-0110f2b7fe1b": {
       "attrs": {
        "height": 0.8,
        "width": 0.8,
        "x": 0.1,
        "y": 0.1
       },
       "content": {
        "cell": "ce5d926b-fa97-413e-854a-9a4e91763d65",
        "part": "whole"
       },
       "id": "4ad37976-ca37-4021-8899-0110f2b7fe1b"
      }
     }
    },
    "f70fa2b9-1fdb-46d1-a324-939b2a7b2691": {
     "id": "f70fa2b9-1fdb-46d1-a324-939b2a7b2691",
     "prev": "adb88f99-c065-4e61-be93-fc2c3f1eb800",
     "regions": {
      "3977ca17-b42c-4394-8c09-0183e8e3ec86": {
       "attrs": {
        "height": 0.8,
        "width": 0.8,
        "x": 0.1,
        "y": 0.1
       },
       "content": {
        "cell": "a14db88f-c823-40aa-b3cc-1e81e194178f",
        "part": "whole"
       },
       "id": "3977ca17-b42c-4394-8c09-0183e8e3ec86"
      }
     }
    },
    "faf93395-f69f-4f1d-889a-59a8352b50f5": {
     "id": "faf93395-f69f-4f1d-889a-59a8352b50f5",
     "prev": "4f86b6de-3ae1-4cc9-bfb5-675edce26342",
     "regions": {
      "2dd8c9b1-34b1-41f2-83e7-b78c31ebcb2a": {
       "attrs": {
        "height": 0.8,
        "width": 0.8,
        "x": 0.1,
        "y": 0.1
       },
       "content": {
        "cell": "a39c3b16-28a6-4859-a3a9-5cb06ba5291e",
        "part": "whole"
       },
       "id": "2dd8c9b1-34b1-41f2-83e7-b78c31ebcb2a"
      }
     }
    }
   },
   "themes": {
    "default": "0755893a-54dc-423b-bdb4-fed3b080cde0",
    "theme": {
     "0755893a-54dc-423b-bdb4-fed3b080cde0": {
      "backgrounds": {
       "dc7afa04-bf90-40b1-82a5-726e3cff5267": {
        "background-color": "31af15d2-7e15-44c5-ab5e-e04b16a89eff",
        "id": "dc7afa04-bf90-40b1-82a5-726e3cff5267"
       }
      },
      "id": "0755893a-54dc-423b-bdb4-fed3b080cde0",
      "palette": {
       "19cc588f-0593-49c9-9f4b-e4d7cc113b1c": {
        "id": "19cc588f-0593-49c9-9f4b-e4d7cc113b1c",
        "rgb": [
         252,
         252,
         252
        ]
       },
       "31af15d2-7e15-44c5-ab5e-e04b16a89eff": {
        "id": "31af15d2-7e15-44c5-ab5e-e04b16a89eff",
        "rgb": [
         68,
         68,
         68
        ]
       },
       "50f92c45-a630-455b-aec3-788680ec7410": {
        "id": "50f92c45-a630-455b-aec3-788680ec7410",
        "rgb": [
         197,
         226,
         245
        ]
       },
       "c5cc3653-2ee1-402a-aba2-7caae1da4f6c": {
        "id": "c5cc3653-2ee1-402a-aba2-7caae1da4f6c",
        "rgb": [
         43,
         126,
         184
        ]
       },
       "efa7f048-9acb-414c-8b04-a26811511a21": {
        "id": "efa7f048-9acb-414c-8b04-a26811511a21",
        "rgb": [
         25.118061674008803,
         73.60176211453744,
         107.4819383259912
        ]
       }
      },
      "rules": {
       "a": {
        "color": "19cc588f-0593-49c9-9f4b-e4d7cc113b1c"
       },
       "blockquote": {
        "color": "50f92c45-a630-455b-aec3-788680ec7410",
        "font-size": 3
       },
       "code": {
        "font-family": "Anonymous Pro"
       },
       "h1": {
        "color": "19cc588f-0593-49c9-9f4b-e4d7cc113b1c",
        "font-family": "Merriweather",
        "font-size": 8
       },
       "h2": {
        "color": "19cc588f-0593-49c9-9f4b-e4d7cc113b1c",
        "font-family": "Merriweather",
        "font-size": 6
       },
       "h3": {
        "color": "50f92c45-a630-455b-aec3-788680ec7410",
        "font-family": "Lato",
        "font-size": 5.5
       },
       "h4": {
        "color": "c5cc3653-2ee1-402a-aba2-7caae1da4f6c",
        "font-family": "Lato",
        "font-size": 5
       },
       "h5": {
        "font-family": "Lato"
       },
       "h6": {
        "font-family": "Lato"
       },
       "h7": {
        "font-family": "Lato"
       },
       "li": {
        "color": "50f92c45-a630-455b-aec3-788680ec7410",
        "font-size": 3.25
       },
       "pre": {
        "font-family": "Anonymous Pro",
        "font-size": 4
       }
      },
      "text-base": {
       "color": "19cc588f-0593-49c9-9f4b-e4d7cc113b1c",
       "font-family": "Lato",
       "font-size": 4
      }
     }
    }
   }
  },
  "widgets": {
   "application/vnd.jupyter.widget-state+json": {
    "state": {},
    "version_major": 2,
    "version_minor": 0
   }
  }
 },
 "nbformat": 4,
 "nbformat_minor": 2
}
