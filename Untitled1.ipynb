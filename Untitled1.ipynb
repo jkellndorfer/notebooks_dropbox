{
 "cells": [
  {
   "cell_type": "code",
   "execution_count": 1,
   "metadata": {},
   "outputs": [
    {
     "ename": "KeyError",
     "evalue": "'SEPPO_GAMMA_HOME'",
     "output_type": "error",
     "traceback": [
      "\u001b[0;31m---------------------------------------------------------------------------\u001b[0m",
      "\u001b[0;31mKeyError\u001b[0m                                  Traceback (most recent call last)",
      "\u001b[0;32m<ipython-input-1-df5bf22643fe>\u001b[0m in \u001b[0;36m<module>\u001b[0;34m()\u001b[0m\n\u001b[0;32m----> 1\u001b[0;31m \u001b[0;32mimport\u001b[0m \u001b[0mseppopy\u001b[0m\u001b[0;34m.\u001b[0m\u001b[0mtools\u001b[0m\u001b[0;34m.\u001b[0m\u001b[0mGammaTools\u001b[0m \u001b[0;32mas\u001b[0m \u001b[0mgt\u001b[0m\u001b[0;34m\u001b[0m\u001b[0m\n\u001b[0m",
      "\u001b[0;32m~/github/private/seppo/programs/lib/seppopy/tools/GammaTools.py\u001b[0m in \u001b[0;36m<module>\u001b[0;34m()\u001b[0m\n\u001b[1;32m     23\u001b[0m \u001b[0;34m\u001b[0m\u001b[0m\n\u001b[1;32m     24\u001b[0m \u001b[0;32mimport\u001b[0m \u001b[0mseppopy\u001b[0m\u001b[0;34m.\u001b[0m\u001b[0mui\u001b[0m\u001b[0;34m.\u001b[0m\u001b[0muserIO\u001b[0m \u001b[0;32mas\u001b[0m \u001b[0m_uio\u001b[0m\u001b[0;34m\u001b[0m\u001b[0m\n\u001b[0;32m---> 25\u001b[0;31m \u001b[0;32mimport\u001b[0m \u001b[0mseppopy\u001b[0m\u001b[0;34m.\u001b[0m\u001b[0mraster\u001b[0m\u001b[0;34m.\u001b[0m\u001b[0mio_w\u001b[0m\u001b[0;34m.\u001b[0m\u001b[0mrasterIO\u001b[0m \u001b[0;32mas\u001b[0m \u001b[0m_rio\u001b[0m\u001b[0;34m\u001b[0m\u001b[0m\n\u001b[0m\u001b[1;32m     26\u001b[0m \u001b[0;32mimport\u001b[0m \u001b[0mseppopy\u001b[0m\u001b[0;34m.\u001b[0m\u001b[0mraster\u001b[0m\u001b[0;34m.\u001b[0m\u001b[0mfilters\u001b[0m\u001b[0;34m.\u001b[0m\u001b[0msar\u001b[0m \u001b[0;32mas\u001b[0m \u001b[0m_sarfil\u001b[0m\u001b[0;34m\u001b[0m\u001b[0m\n\u001b[1;32m     27\u001b[0m \u001b[0;32mimport\u001b[0m \u001b[0mseppopy\u001b[0m\u001b[0;34m.\u001b[0m\u001b[0mtools\u001b[0m\u001b[0;34m.\u001b[0m\u001b[0mDEMTools\u001b[0m \u001b[0;32mas\u001b[0m \u001b[0m_dem\u001b[0m\u001b[0;34m\u001b[0m\u001b[0m\n",
      "\u001b[0;32m~/github/private/seppo/programs/lib/seppopy/raster/io_w/rasterIO.py\u001b[0m in \u001b[0;36m<module>\u001b[0;34m()\u001b[0m\n\u001b[1;32m     27\u001b[0m \u001b[0;32mimport\u001b[0m \u001b[0msubprocess\u001b[0m \u001b[0;32mas\u001b[0m \u001b[0m_sp\u001b[0m\u001b[0;34m\u001b[0m\u001b[0m\n\u001b[1;32m     28\u001b[0m \u001b[0;32mimport\u001b[0m \u001b[0mwarnings\u001b[0m \u001b[0;32mas\u001b[0m \u001b[0m_warnings\u001b[0m\u001b[0;34m\u001b[0m\u001b[0m\n\u001b[0;32m---> 29\u001b[0;31m \u001b[0;32mimport\u001b[0m \u001b[0mseppopy\u001b[0m\u001b[0;34m.\u001b[0m\u001b[0mtools\u001b[0m\u001b[0;34m.\u001b[0m\u001b[0mfilehandling\u001b[0m \u001b[0;32mas\u001b[0m \u001b[0m_fh\u001b[0m\u001b[0;34m\u001b[0m\u001b[0m\n\u001b[0m\u001b[1;32m     30\u001b[0m \u001b[0;32mimport\u001b[0m \u001b[0mmultiprocessing\u001b[0m \u001b[0;32mas\u001b[0m \u001b[0m_mp\u001b[0m\u001b[0;34m\u001b[0m\u001b[0m\n\u001b[1;32m     31\u001b[0m \u001b[0;32mimport\u001b[0m \u001b[0mitertools\u001b[0m \u001b[0;32mas\u001b[0m \u001b[0m_itertools\u001b[0m\u001b[0;34m\u001b[0m\u001b[0m\n",
      "\u001b[0;32m~/github/private/seppo/programs/lib/seppopy/tools/filehandling.py\u001b[0m in \u001b[0;36m<module>\u001b[0;34m()\u001b[0m\n\u001b[1;32m     29\u001b[0m \u001b[0;32mfrom\u001b[0m \u001b[0mitertools\u001b[0m \u001b[0;32mimport\u001b[0m \u001b[0mrepeat\u001b[0m\u001b[0;34m\u001b[0m\u001b[0m\n\u001b[1;32m     30\u001b[0m \u001b[0;34m\u001b[0m\u001b[0m\n\u001b[0;32m---> 31\u001b[0;31m \u001b[0mSEPPO_GAMMA_HOME\u001b[0m\u001b[0;34m=\u001b[0m\u001b[0m_os\u001b[0m\u001b[0;34m.\u001b[0m\u001b[0menviron\u001b[0m\u001b[0;34m[\u001b[0m\u001b[0;34m'SEPPO_GAMMA_HOME'\u001b[0m\u001b[0;34m]\u001b[0m\u001b[0;34m\u001b[0m\u001b[0m\n\u001b[0m\u001b[1;32m     32\u001b[0m \u001b[0;34m\u001b[0m\u001b[0m\n\u001b[1;32m     33\u001b[0m \u001b[0;34m\u001b[0m\u001b[0m\n",
      "\u001b[0;32m~/anaconda/envs/seppo/lib/python3.6/os.py\u001b[0m in \u001b[0;36m__getitem__\u001b[0;34m(self, key)\u001b[0m\n\u001b[1;32m    667\u001b[0m         \u001b[0;32mexcept\u001b[0m \u001b[0mKeyError\u001b[0m\u001b[0;34m:\u001b[0m\u001b[0;34m\u001b[0m\u001b[0m\n\u001b[1;32m    668\u001b[0m             \u001b[0;31m# raise KeyError with the original key value\u001b[0m\u001b[0;34m\u001b[0m\u001b[0;34m\u001b[0m\u001b[0m\n\u001b[0;32m--> 669\u001b[0;31m             \u001b[0;32mraise\u001b[0m \u001b[0mKeyError\u001b[0m\u001b[0;34m(\u001b[0m\u001b[0mkey\u001b[0m\u001b[0;34m)\u001b[0m \u001b[0;32mfrom\u001b[0m \u001b[0;32mNone\u001b[0m\u001b[0;34m\u001b[0m\u001b[0m\n\u001b[0m\u001b[1;32m    670\u001b[0m         \u001b[0;32mreturn\u001b[0m \u001b[0mself\u001b[0m\u001b[0;34m.\u001b[0m\u001b[0mdecodevalue\u001b[0m\u001b[0;34m(\u001b[0m\u001b[0mvalue\u001b[0m\u001b[0;34m)\u001b[0m\u001b[0;34m\u001b[0m\u001b[0m\n\u001b[1;32m    671\u001b[0m \u001b[0;34m\u001b[0m\u001b[0m\n",
      "\u001b[0;31mKeyError\u001b[0m: 'SEPPO_GAMMA_HOME'"
     ]
    }
   ],
   "source": [
    "import seppopy.tools.GammaTools as gt\n",
    "\n"
   ]
  },
  {
   "cell_type": "code",
   "execution_count": 3,
   "metadata": {},
   "outputs": [],
   "source": [
    "import os\n"
   ]
  },
  {
   "cell_type": "code",
   "execution_count": 4,
   "metadata": {},
   "outputs": [
    {
     "data": {
      "text/plain": [
       "<bound method Mapping.keys of environ({'PATH': '/Users/josefk/anaconda/envs/nb/bin:/Users/josefk/github/private/seppo/sandbox/josefk/aws:/Users/josefk/github/private/seppo/commands:/Users/josefk/github/private/seppo/programs/_internal:/Users/josefk/github/private/seppo/sandbox/josefk/aws:/Users/josefk/github/private/seppo/commands:/Users/josefk/github/private/seppo/programs/_internal:/Users/josefk/github/private/seppo/sandbox/josefk/aws:/Users/josefk/github/private/seppo/commands:/Users/josefk/github/private/seppo/programs/_internal:/Users/josefk/github/private/seppo/sandbox/josefk/aws:/Users/josefk/github/private/seppo/commands:.:/Users/josefk/google-cloud-sdk/bin:/Users/josefk/bin:/Users/josefk/bin/gdal:.:/Applications/ImageMagick-6.9.0/bin:/opt/local/bin:/opt/local/sbin:/Users/josefk/anaconda/bin:/usr/local/bin:/usr/bin:/bin:/usr/sbin:/sbin:/opt/X11/bin:/usr/local/aria2/bin:/usr/local/git/bin:/usr/local/go/bin:/opt/ImageMagick/bin:/Library/TeX/texbin:/Users/josefk/bin:/Users/josefk/Programs/GAMMA/GAMMA_Current/lib:/Users/josefk/Programs/GAMMA/GAMMA_Current/MSP/bin:/Users/josefk/Programs/GAMMA/GAMMA_Current/ISP/bin:/Users/josefk/Programs/GAMMA/GAMMA_Current/DIFF/bin:/Users/josefk/Programs/GAMMA/GAMMA_Current/LAT/bin:/Users/josefk/Programs/GAMMA/GAMMA_Current/DISP/bin:/Users/josefk/Programs/GAMMA/GAMMA_Current/IPTA/bin:/Users/josefk/Programs/GAMMA/GAMMA_Current/MSP/scripts:/Users/josefk/Programs/GAMMA/GAMMA_Current/ISP/scripts:/Users/josefk/Programs/GAMMA/GAMMA_Current/LAT/scripts:/Users/josefk/Programs/GAMMA/GAMMA_Current/DIFF/scripts:/Users/josefk/Programs/GAMMA/GAMMA_Current/IPTA/scripts:/opt/local/bin:/usr/local/bin:/usr/X11R6/bin:/Library/PostgreSQL/9.5/bin:/usr/local/aws/bin:/Users/josefk/Programs/GAMMA/GAMMA_Current/lib:/Users/josefk/Programs/GAMMA/GAMMA_Current/MSP/bin:/Users/josefk/Programs/GAMMA/GAMMA_Current/ISP/bin:/Users/josefk/Programs/GAMMA/GAMMA_Current/DIFF/bin:/Users/josefk/Programs/GAMMA/GAMMA_Current/LAT/bin:/Users/josefk/Programs/GAMMA/GAMMA_Current/DISP/bin:/Users/josefk/Programs/GAMMA/GAMMA_Current/IPTA/bin:/Users/josefk/Programs/GAMMA/GAMMA_Current/MSP/scripts:/Users/josefk/Programs/GAMMA/GAMMA_Current/ISP/scripts:/Users/josefk/Programs/GAMMA/GAMMA_Current/LAT/scripts:/Users/josefk/Programs/GAMMA/GAMMA_Current/DIFF/scripts:/Users/josefk/Programs/GAMMA/GAMMA_Current/IPTA/scripts:/opt/local/bin:/usr/local/bin:/Users/josefk/github/private/ebd/scripts:/Users/josefk/github/private/seppo/programs/_internal:/Users/josefk/Programs/GAMMA/GAMMA_Current/ISP/bin:/Users/josefk/Programs/GAMMA/GAMMA_Current/DIFF/bin:/Users/josefk/Programs/GAMMA/GAMMA_Current/LAT/bin:/Users/josefk/Programs/GAMMA/GAMMA_Current/DISP/bin:/Users/josefk/Programs/GAMMA/GAMMA_Current/TOOLS/bin:/Users/josefk/github/private/ebd/scripts:/Users/josefk/github/private/seppo/programs/_internal:/Users/josefk/Programs/GAMMA/GAMMA_Current/ISP/bin:/Users/josefk/Programs/GAMMA/GAMMA_Current/DIFF/bin:/Users/josefk/Programs/GAMMA/GAMMA_Current/LAT/bin:/Users/josefk/Programs/GAMMA/GAMMA_Current/DISP/bin:/Users/josefk/Programs/GAMMA/GAMMA_Current/TOOLS/bin:/Users/josefk/github/private/ebd/scripts:/Users/josefk/github/private/seppo/programs/_internal:/Users/josefk/Programs/GAMMA/GAMMA_Current/ISP/bin:/Users/josefk/Programs/GAMMA/GAMMA_Current/DIFF/bin:/Users/josefk/Programs/GAMMA/GAMMA_Current/LAT/bin:/Users/josefk/Programs/GAMMA/GAMMA_Current/DISP/bin:/Users/josefk/Programs/GAMMA/GAMMA_Current/TOOLS/bin:/Users/josefk/github/private/ebd/scripts:/Users/josefk/github/private/seppo/programs/_internal:/Users/josefk/Programs/GAMMA/GAMMA_Current/ISP/bin:/Users/josefk/Programs/GAMMA/GAMMA_Current/DIFF/bin:/Users/josefk/Programs/GAMMA/GAMMA_Current/LAT/bin:/Users/josefk/Programs/GAMMA/GAMMA_Current/DISP/bin:/Users/josefk/Programs/GAMMA/GAMMA_Current/TOOLS/bin', 'PYTHONPATH': '/Users/josefk/github/private/seppo/programs/lib:/Users/josefk/github/private/seppo/../seppo_external:/Users/josefk/github/private/seppo/programs:/Users/josefk/github/private/seppo/recipies:/Users/josefk/github/private/ebd/lib', 'CONDA_DEFAULT_ENV': 'nb', 'LANG': 'en_US.UTF-8', 'LC_ALL': 'C', 'JUPYTERHUB_API_TOKEN': '286def503e3b47988c11a579e22b9d1c', 'JPY_API_TOKEN': '286def503e3b47988c11a579e22b9d1c', 'JUPYTERHUB_CLIENT_ID': 'jupyterhub-user-josefk', 'JUPYTERHUB_HOST': '', 'JUPYTERHUB_OAUTH_CALLBACK_URL': '/user/josefk/oauth_callback', 'JUPYTERHUB_USER': 'josefk', 'JUPYTERHUB_API_URL': 'http://127.0.0.1:8081/hub/api', 'JUPYTERHUB_BASE_URL': '/', 'JUPYTERHUB_SERVICE_PREFIX': '/user/josefk/', 'USER': 'josefk', 'HOME': '/Users/josefk', 'SHELL': '/bin/bash', '__CF_USER_TEXT_ENCODING': '0x1F5:0x0:0x0', 'JPY_PARENT_PID': '18419', 'TERM': 'xterm-color', 'CLICOLOR': '1', 'PAGER': 'cat', 'GIT_PAGER': 'cat', 'MPLBACKEND': 'module://ipykernel.pylab.backend_inline'})>"
      ]
     },
     "execution_count": 4,
     "metadata": {},
     "output_type": "execute_result"
    }
   ],
   "source": [
    "os.environ.keys\n"
   ]
  }
 ],
 "metadata": {
  "kernelspec": {
   "display_name": "Python [conda env:seppo]",
   "language": "python",
   "name": "conda-env-seppo-py"
  },
  "language_info": {
   "codemirror_mode": {
    "name": "ipython",
    "version": 3
   },
   "file_extension": ".py",
   "mimetype": "text/x-python",
   "name": "python",
   "nbconvert_exporter": "python",
   "pygments_lexer": "ipython3",
   "version": "3.6.6"
  }
 },
 "nbformat": 4,
 "nbformat_minor": 2
}
